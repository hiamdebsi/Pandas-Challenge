{
 "cells": [
  {
   "cell_type": "markdown",
   "metadata": {},
   "source": [
    "### Note\n",
    "* Instructions have been included for each segment. You do not have to follow them exactly, but they are included to help you think through the steps."
   ]
  },
  {
   "cell_type": "code",
   "execution_count": 17,
   "metadata": {},
   "outputs": [],
   "source": [
    "# Dependencies and Setup\n",
    "import pandas as pd\n",
    "\n",
    "# File to Load (Remember to Change These)\n",
    "file_to_load = \"Resources/purchase_data.csv\"\n",
    "\n",
    "# Read Purchasing File and store into Pandas data frame\n",
    "purchase_data_df = pd.read_csv(file_to_load)"
   ]
  },
  {
   "cell_type": "code",
   "execution_count": 18,
   "metadata": {},
   "outputs": [
    {
     "data": {
      "text/html": [
       "<div>\n",
       "<style scoped>\n",
       "    .dataframe tbody tr th:only-of-type {\n",
       "        vertical-align: middle;\n",
       "    }\n",
       "\n",
       "    .dataframe tbody tr th {\n",
       "        vertical-align: top;\n",
       "    }\n",
       "\n",
       "    .dataframe thead th {\n",
       "        text-align: right;\n",
       "    }\n",
       "</style>\n",
       "<table border=\"1\" class=\"dataframe\">\n",
       "  <thead>\n",
       "    <tr style=\"text-align: right;\">\n",
       "      <th></th>\n",
       "      <th>Purchase ID</th>\n",
       "      <th>SN</th>\n",
       "      <th>Age</th>\n",
       "      <th>Gender</th>\n",
       "      <th>Item ID</th>\n",
       "      <th>Item Name</th>\n",
       "      <th>Price</th>\n",
       "    </tr>\n",
       "  </thead>\n",
       "  <tbody>\n",
       "    <tr>\n",
       "      <th>0</th>\n",
       "      <td>0</td>\n",
       "      <td>Lisim78</td>\n",
       "      <td>20</td>\n",
       "      <td>Male</td>\n",
       "      <td>108</td>\n",
       "      <td>Extraction, Quickblade Of Trembling Hands</td>\n",
       "      <td>3.53</td>\n",
       "    </tr>\n",
       "    <tr>\n",
       "      <th>1</th>\n",
       "      <td>1</td>\n",
       "      <td>Lisovynya38</td>\n",
       "      <td>40</td>\n",
       "      <td>Male</td>\n",
       "      <td>143</td>\n",
       "      <td>Frenzied Scimitar</td>\n",
       "      <td>1.56</td>\n",
       "    </tr>\n",
       "    <tr>\n",
       "      <th>2</th>\n",
       "      <td>2</td>\n",
       "      <td>Ithergue48</td>\n",
       "      <td>24</td>\n",
       "      <td>Male</td>\n",
       "      <td>92</td>\n",
       "      <td>Final Critic</td>\n",
       "      <td>4.88</td>\n",
       "    </tr>\n",
       "    <tr>\n",
       "      <th>3</th>\n",
       "      <td>3</td>\n",
       "      <td>Chamassasya86</td>\n",
       "      <td>24</td>\n",
       "      <td>Male</td>\n",
       "      <td>100</td>\n",
       "      <td>Blindscythe</td>\n",
       "      <td>3.27</td>\n",
       "    </tr>\n",
       "    <tr>\n",
       "      <th>4</th>\n",
       "      <td>4</td>\n",
       "      <td>Iskosia90</td>\n",
       "      <td>23</td>\n",
       "      <td>Male</td>\n",
       "      <td>131</td>\n",
       "      <td>Fury</td>\n",
       "      <td>1.44</td>\n",
       "    </tr>\n",
       "  </tbody>\n",
       "</table>\n",
       "</div>"
      ],
      "text/plain": [
       "   Purchase ID             SN  Age Gender  Item ID  \\\n",
       "0            0        Lisim78   20   Male      108   \n",
       "1            1    Lisovynya38   40   Male      143   \n",
       "2            2     Ithergue48   24   Male       92   \n",
       "3            3  Chamassasya86   24   Male      100   \n",
       "4            4      Iskosia90   23   Male      131   \n",
       "\n",
       "                                   Item Name  Price  \n",
       "0  Extraction, Quickblade Of Trembling Hands   3.53  \n",
       "1                          Frenzied Scimitar   1.56  \n",
       "2                               Final Critic   4.88  \n",
       "3                                Blindscythe   3.27  \n",
       "4                                       Fury   1.44  "
      ]
     },
     "execution_count": 18,
     "metadata": {},
     "output_type": "execute_result"
    }
   ],
   "source": [
    "#Print out the beginning of the data to understand what we're working with\n",
    "purchase_data_df.head()"
   ]
  },
  {
   "cell_type": "markdown",
   "metadata": {},
   "source": [
    "## Player Count"
   ]
  },
  {
   "cell_type": "markdown",
   "metadata": {},
   "source": [
    "* Display the total number of players\n"
   ]
  },
  {
   "cell_type": "code",
   "execution_count": 19,
   "metadata": {},
   "outputs": [
    {
     "data": {
      "text/html": [
       "<div>\n",
       "<style scoped>\n",
       "    .dataframe tbody tr th:only-of-type {\n",
       "        vertical-align: middle;\n",
       "    }\n",
       "\n",
       "    .dataframe tbody tr th {\n",
       "        vertical-align: top;\n",
       "    }\n",
       "\n",
       "    .dataframe thead th {\n",
       "        text-align: right;\n",
       "    }\n",
       "</style>\n",
       "<table border=\"1\" class=\"dataframe\">\n",
       "  <thead>\n",
       "    <tr style=\"text-align: right;\">\n",
       "      <th></th>\n",
       "      <th>Total Players</th>\n",
       "    </tr>\n",
       "  </thead>\n",
       "  <tbody>\n",
       "    <tr>\n",
       "      <th>0</th>\n",
       "      <td>576</td>\n",
       "    </tr>\n",
       "  </tbody>\n",
       "</table>\n",
       "</div>"
      ],
      "text/plain": [
       "   Total Players\n",
       "0            576"
      ]
     },
     "execution_count": 19,
     "metadata": {},
     "output_type": "execute_result"
    }
   ],
   "source": [
    "#Calculate count of players by finding unique SN values\n",
    "players_count = purchase_data_df['SN'].nunique()\n",
    "\n",
    "#Convert the players_count series into a Dataframe\n",
    "pd.DataFrame({\n",
    "    \"Total Players\": [players_count]\n",
    "})"
   ]
  },
  {
   "cell_type": "markdown",
   "metadata": {},
   "source": [
    "## Purchasing Analysis (Total)"
   ]
  },
  {
   "cell_type": "markdown",
   "metadata": {},
   "source": [
    "* Run basic calculations to obtain number of unique items, average price, etc.\n",
    "\n",
    "\n",
    "* Create a summary data frame to hold the results\n",
    "\n",
    "\n",
    "* Optional: give the displayed data cleaner formatting\n",
    "\n",
    "\n",
    "* Display the summary data frame\n"
   ]
  },
  {
   "cell_type": "code",
   "execution_count": 22,
   "metadata": {
    "scrolled": true
   },
   "outputs": [
    {
     "data": {
      "text/html": [
       "<div>\n",
       "<style scoped>\n",
       "    .dataframe tbody tr th:only-of-type {\n",
       "        vertical-align: middle;\n",
       "    }\n",
       "\n",
       "    .dataframe tbody tr th {\n",
       "        vertical-align: top;\n",
       "    }\n",
       "\n",
       "    .dataframe thead th {\n",
       "        text-align: right;\n",
       "    }\n",
       "</style>\n",
       "<table border=\"1\" class=\"dataframe\">\n",
       "  <thead>\n",
       "    <tr style=\"text-align: right;\">\n",
       "      <th></th>\n",
       "      <th>Number of Uniques Items</th>\n",
       "      <th>Average Price</th>\n",
       "      <th>Number of Purchases</th>\n",
       "      <th>Total Revenue</th>\n",
       "    </tr>\n",
       "  </thead>\n",
       "  <tbody>\n",
       "    <tr>\n",
       "      <th>0</th>\n",
       "      <td>179</td>\n",
       "      <td>$3.05</td>\n",
       "      <td>780</td>\n",
       "      <td>$2,379.77</td>\n",
       "    </tr>\n",
       "  </tbody>\n",
       "</table>\n",
       "</div>"
      ],
      "text/plain": [
       "   Number of Uniques Items Average Price  Number of Purchases Total Revenue\n",
       "0                      179         $3.05                  780     $2,379.77"
      ]
     },
     "execution_count": 22,
     "metadata": {},
     "output_type": "execute_result"
    }
   ],
   "source": [
    "#Calculate the number of unique items, average purchase price, total number of purchases, and total revenue of purchases\n",
    "unique_items = purchase_data_df['Item Name'].nunique()\n",
    "average_purchase_price = purchase_data_df['Price'].mean()\n",
    "purchases_count = purchase_data_df['Purchase ID'].count()\n",
    "total_revenue = purchase_data_df['Price'].sum()\n",
    "\n",
    "#Create summary of results Dataframe\n",
    "purchasing_analysis_df = pd.DataFrame({\n",
    "    'Number of Uniques Items':[unique_items],\n",
    "    'Average Price':[average_purchase_price],\n",
    "    'Number of Purchases':[purchases_count],\n",
    "    'Total Revenue':[total_revenue]\n",
    "})\n",
    "\n",
    "#Clean Dataframe with proper formatting\n",
    "purchasing_analysis_df['Average Price']=purchasing_analysis_df['Average Price'].map(\"${:,.2f}\".format)\n",
    "purchasing_analysis_df['Total Revenue']=purchasing_analysis_df['Total Revenue'].map(\"${:,.2f}\".format)\n",
    "\n",
    "#Print out Dataframe\n",
    "purchasing_analysis_df"
   ]
  },
  {
   "cell_type": "markdown",
   "metadata": {},
   "source": [
    "## Gender Demographics"
   ]
  },
  {
   "cell_type": "markdown",
   "metadata": {},
   "source": [
    "* Percentage and Count of Male Players\n",
    "\n",
    "\n",
    "* Percentage and Count of Female Players\n",
    "\n",
    "\n",
    "* Percentage and Count of Other / Non-Disclosed\n",
    "\n",
    "\n"
   ]
  },
  {
   "cell_type": "code",
   "execution_count": 6,
   "metadata": {},
   "outputs": [
    {
     "data": {
      "text/html": [
       "<style  type=\"text/css\" >\n",
       "</style><table id=\"T_806fd018_14b8_11ec_a1a0_9801a7a4a30b\" ><thead>    <tr>        <th class=\"blank level0\" ></th>        <th class=\"col_heading level0 col0\" >Total Count</th>        <th class=\"col_heading level0 col1\" >Percentage of Players</th>    </tr></thead><tbody>\n",
       "                <tr>\n",
       "                        <th id=\"T_806fd018_14b8_11ec_a1a0_9801a7a4a30blevel0_row0\" class=\"row_heading level0 row0\" >Male</th>\n",
       "                        <td id=\"T_806fd018_14b8_11ec_a1a0_9801a7a4a30brow0_col0\" class=\"data row0 col0\" >484</td>\n",
       "                        <td id=\"T_806fd018_14b8_11ec_a1a0_9801a7a4a30brow0_col1\" class=\"data row0 col1\" >84.03%</td>\n",
       "            </tr>\n",
       "            <tr>\n",
       "                        <th id=\"T_806fd018_14b8_11ec_a1a0_9801a7a4a30blevel0_row1\" class=\"row_heading level0 row1\" >Female</th>\n",
       "                        <td id=\"T_806fd018_14b8_11ec_a1a0_9801a7a4a30brow1_col0\" class=\"data row1 col0\" >81</td>\n",
       "                        <td id=\"T_806fd018_14b8_11ec_a1a0_9801a7a4a30brow1_col1\" class=\"data row1 col1\" >14.06%</td>\n",
       "            </tr>\n",
       "            <tr>\n",
       "                        <th id=\"T_806fd018_14b8_11ec_a1a0_9801a7a4a30blevel0_row2\" class=\"row_heading level0 row2\" >Other / Non-Disclosed</th>\n",
       "                        <td id=\"T_806fd018_14b8_11ec_a1a0_9801a7a4a30brow2_col0\" class=\"data row2 col0\" >11</td>\n",
       "                        <td id=\"T_806fd018_14b8_11ec_a1a0_9801a7a4a30brow2_col1\" class=\"data row2 col1\" >1.91%</td>\n",
       "            </tr>\n",
       "    </tbody></table>"
      ],
      "text/plain": [
       "<pandas.io.formats.style.Styler at 0x7fa693218710>"
      ]
     },
     "execution_count": 6,
     "metadata": {},
     "output_type": "execute_result"
    }
   ],
   "source": [
    "#Group the data by gender to filter the values needed\n",
    "groupby_gender = purchase_data_df.groupby(\"Gender\")\n",
    "\n",
    "#Calculate the count and percentage for each gender\n",
    "gender_count = groupby_gender.nunique()[\"SN\"]\n",
    "gender_percentage = gender_count / players_count * 100\n",
    "\n",
    "#Convert series into a Dataframe\n",
    "gender_demo = pd.DataFrame({\"Total Count\": gender_count,\"Percentage of Players\": gender_percentage})\n",
    "\n",
    "#Clean Dataframe with proper formatting, and display from highest to lowest count and print\n",
    "gender_demo.index.name = None\n",
    "gender_demo.sort_values([\"Total Count\"], ascending = False).style.format({\"Percentage of Players\":\"{:.2f}%\"})"
   ]
  },
  {
   "cell_type": "markdown",
   "metadata": {},
   "source": [
    "\n",
    "## Purchasing Analysis (Gender)"
   ]
  },
  {
   "cell_type": "markdown",
   "metadata": {},
   "source": [
    "* Run basic calculations to obtain purchase count, avg. purchase price, avg. purchase total per person etc. by gender\n",
    "\n",
    "\n",
    "\n",
    "\n",
    "* Create a summary data frame to hold the results\n",
    "\n",
    "\n",
    "* Optional: give the displayed data cleaner formatting\n",
    "\n",
    "\n",
    "* Display the summary data frame"
   ]
  },
  {
   "cell_type": "code",
   "execution_count": 7,
   "metadata": {},
   "outputs": [
    {
     "data": {
      "text/html": [
       "<style  type=\"text/css\" >\n",
       "</style><table id=\"T_81f1bbf4_14b8_11ec_a38e_9801a7a4a30b\" ><thead>    <tr>        <th class=\"blank level0\" ></th>        <th class=\"col_heading level0 col0\" >Purchase Count</th>        <th class=\"col_heading level0 col1\" >Average Purchase Price</th>        <th class=\"col_heading level0 col2\" >Total Purchase Value</th>        <th class=\"col_heading level0 col3\" >Avg Total Purchase per Person</th>    </tr>    <tr>        <th class=\"index_name level0\" >Gender</th>        <th class=\"blank\" ></th>        <th class=\"blank\" ></th>        <th class=\"blank\" ></th>        <th class=\"blank\" ></th>    </tr></thead><tbody>\n",
       "                <tr>\n",
       "                        <th id=\"T_81f1bbf4_14b8_11ec_a38e_9801a7a4a30blevel0_row0\" class=\"row_heading level0 row0\" >Female</th>\n",
       "                        <td id=\"T_81f1bbf4_14b8_11ec_a38e_9801a7a4a30brow0_col0\" class=\"data row0 col0\" >113</td>\n",
       "                        <td id=\"T_81f1bbf4_14b8_11ec_a38e_9801a7a4a30brow0_col1\" class=\"data row0 col1\" >$3.20</td>\n",
       "                        <td id=\"T_81f1bbf4_14b8_11ec_a38e_9801a7a4a30brow0_col2\" class=\"data row0 col2\" >$361.94</td>\n",
       "                        <td id=\"T_81f1bbf4_14b8_11ec_a38e_9801a7a4a30brow0_col3\" class=\"data row0 col3\" >$4.47</td>\n",
       "            </tr>\n",
       "            <tr>\n",
       "                        <th id=\"T_81f1bbf4_14b8_11ec_a38e_9801a7a4a30blevel0_row1\" class=\"row_heading level0 row1\" >Male</th>\n",
       "                        <td id=\"T_81f1bbf4_14b8_11ec_a38e_9801a7a4a30brow1_col0\" class=\"data row1 col0\" >652</td>\n",
       "                        <td id=\"T_81f1bbf4_14b8_11ec_a38e_9801a7a4a30brow1_col1\" class=\"data row1 col1\" >$3.02</td>\n",
       "                        <td id=\"T_81f1bbf4_14b8_11ec_a38e_9801a7a4a30brow1_col2\" class=\"data row1 col2\" >$1,967.64</td>\n",
       "                        <td id=\"T_81f1bbf4_14b8_11ec_a38e_9801a7a4a30brow1_col3\" class=\"data row1 col3\" >$4.07</td>\n",
       "            </tr>\n",
       "            <tr>\n",
       "                        <th id=\"T_81f1bbf4_14b8_11ec_a38e_9801a7a4a30blevel0_row2\" class=\"row_heading level0 row2\" >Other / Non-Disclosed</th>\n",
       "                        <td id=\"T_81f1bbf4_14b8_11ec_a38e_9801a7a4a30brow2_col0\" class=\"data row2 col0\" >15</td>\n",
       "                        <td id=\"T_81f1bbf4_14b8_11ec_a38e_9801a7a4a30brow2_col1\" class=\"data row2 col1\" >$3.35</td>\n",
       "                        <td id=\"T_81f1bbf4_14b8_11ec_a38e_9801a7a4a30brow2_col2\" class=\"data row2 col2\" >$50.19</td>\n",
       "                        <td id=\"T_81f1bbf4_14b8_11ec_a38e_9801a7a4a30brow2_col3\" class=\"data row2 col3\" >$4.56</td>\n",
       "            </tr>\n",
       "    </tbody></table>"
      ],
      "text/plain": [
       "<pandas.io.formats.style.Styler at 0x7fa6942cb160>"
      ]
     },
     "execution_count": 7,
     "metadata": {},
     "output_type": "execute_result"
    }
   ],
   "source": [
    "#Calculate the purchase count, average purchase price, total purchase value, and average total purchase price per gender (group by gender - gbg)\n",
    "gbg_purchase_count=groupby_gender['Purchase ID'].count()\n",
    "gbg_avg_purchase_price=groupby_gender['Price'].mean()\n",
    "gbg_total_purchase_price=groupby_gender['Price'].sum()\n",
    "gbg_ind_purchase_price=gbg_total_purchase_price/gender_count\n",
    "\n",
    "#Create summary of results Dataframe\n",
    "gender_demo_analysis = pd.DataFrame({\n",
    "    'Purchase Count':gbg_purchase_count,\n",
    "    'Average Purchase Price':gbg_avg_purchase_price,\n",
    "    'Total Purchase Value':gbg_total_purchase_price,\n",
    "    'Avg Total Purchase per Person':gbg_ind_purchase_price\n",
    "})\n",
    "\n",
    "#Clean up the Dataframe and set the index as the gender\n",
    "gender_demo_analysis.index.name = 'Gender'\n",
    "gender_demo_analysis.style.format({\n",
    "    'Average Purchase Price':\"${:,.2f}\",\n",
    "    'Total Purchase Value':\"${:,.2f}\",\n",
    "    'Avg Total Purchase per Person':\"${:,.2f}\"\n",
    "})"
   ]
  },
  {
   "cell_type": "markdown",
   "metadata": {},
   "source": [
    "## Age Demographics"
   ]
  },
  {
   "cell_type": "markdown",
   "metadata": {},
   "source": [
    "* Establish bins for ages\n",
    "\n",
    "\n",
    "* Categorize the existing players using the age bins. Hint: use pd.cut()\n",
    "\n",
    "\n",
    "* Calculate the numbers and percentages by age group\n",
    "\n",
    "\n",
    "* Create a summary data frame to hold the results\n",
    "\n",
    "\n",
    "* Optional: round the percentage column to two decimal points\n",
    "\n",
    "\n",
    "* Display Age Demographics Table\n"
   ]
  },
  {
   "cell_type": "code",
   "execution_count": 8,
   "metadata": {},
   "outputs": [
    {
     "name": "stdout",
     "output_type": "stream",
     "text": [
      "45\n",
      "7\n"
     ]
    }
   ],
   "source": [
    "#Find the max and min of the age values to determine bin start and end point\n",
    "print(purchase_data_df['Age'].max())\n",
    "print(purchase_data_df['Age'].min())"
   ]
  },
  {
   "cell_type": "code",
   "execution_count": 9,
   "metadata": {},
   "outputs": [
    {
     "data": {
      "text/html": [
       "<div>\n",
       "<style scoped>\n",
       "    .dataframe tbody tr th:only-of-type {\n",
       "        vertical-align: middle;\n",
       "    }\n",
       "\n",
       "    .dataframe tbody tr th {\n",
       "        vertical-align: top;\n",
       "    }\n",
       "\n",
       "    .dataframe thead th {\n",
       "        text-align: right;\n",
       "    }\n",
       "</style>\n",
       "<table border=\"1\" class=\"dataframe\">\n",
       "  <thead>\n",
       "    <tr style=\"text-align: right;\">\n",
       "      <th></th>\n",
       "      <th>Purchase ID</th>\n",
       "      <th>SN</th>\n",
       "      <th>Age</th>\n",
       "      <th>Gender</th>\n",
       "      <th>Item ID</th>\n",
       "      <th>Item Name</th>\n",
       "      <th>Price</th>\n",
       "      <th>Age Ranges</th>\n",
       "    </tr>\n",
       "  </thead>\n",
       "  <tbody>\n",
       "    <tr>\n",
       "      <th>0</th>\n",
       "      <td>0</td>\n",
       "      <td>Lisim78</td>\n",
       "      <td>20</td>\n",
       "      <td>Male</td>\n",
       "      <td>108</td>\n",
       "      <td>Extraction, Quickblade Of Trembling Hands</td>\n",
       "      <td>3.53</td>\n",
       "      <td>20-24</td>\n",
       "    </tr>\n",
       "    <tr>\n",
       "      <th>1</th>\n",
       "      <td>1</td>\n",
       "      <td>Lisovynya38</td>\n",
       "      <td>40</td>\n",
       "      <td>Male</td>\n",
       "      <td>143</td>\n",
       "      <td>Frenzied Scimitar</td>\n",
       "      <td>1.56</td>\n",
       "      <td>40+</td>\n",
       "    </tr>\n",
       "    <tr>\n",
       "      <th>2</th>\n",
       "      <td>2</td>\n",
       "      <td>Ithergue48</td>\n",
       "      <td>24</td>\n",
       "      <td>Male</td>\n",
       "      <td>92</td>\n",
       "      <td>Final Critic</td>\n",
       "      <td>4.88</td>\n",
       "      <td>20-24</td>\n",
       "    </tr>\n",
       "    <tr>\n",
       "      <th>3</th>\n",
       "      <td>3</td>\n",
       "      <td>Chamassasya86</td>\n",
       "      <td>24</td>\n",
       "      <td>Male</td>\n",
       "      <td>100</td>\n",
       "      <td>Blindscythe</td>\n",
       "      <td>3.27</td>\n",
       "      <td>20-24</td>\n",
       "    </tr>\n",
       "    <tr>\n",
       "      <th>4</th>\n",
       "      <td>4</td>\n",
       "      <td>Iskosia90</td>\n",
       "      <td>23</td>\n",
       "      <td>Male</td>\n",
       "      <td>131</td>\n",
       "      <td>Fury</td>\n",
       "      <td>1.44</td>\n",
       "      <td>20-24</td>\n",
       "    </tr>\n",
       "    <tr>\n",
       "      <th>...</th>\n",
       "      <td>...</td>\n",
       "      <td>...</td>\n",
       "      <td>...</td>\n",
       "      <td>...</td>\n",
       "      <td>...</td>\n",
       "      <td>...</td>\n",
       "      <td>...</td>\n",
       "      <td>...</td>\n",
       "    </tr>\n",
       "    <tr>\n",
       "      <th>775</th>\n",
       "      <td>775</td>\n",
       "      <td>Aethedru70</td>\n",
       "      <td>21</td>\n",
       "      <td>Female</td>\n",
       "      <td>60</td>\n",
       "      <td>Wolf</td>\n",
       "      <td>3.54</td>\n",
       "      <td>20-24</td>\n",
       "    </tr>\n",
       "    <tr>\n",
       "      <th>776</th>\n",
       "      <td>776</td>\n",
       "      <td>Iral74</td>\n",
       "      <td>21</td>\n",
       "      <td>Male</td>\n",
       "      <td>164</td>\n",
       "      <td>Exiled Doomblade</td>\n",
       "      <td>1.63</td>\n",
       "      <td>20-24</td>\n",
       "    </tr>\n",
       "    <tr>\n",
       "      <th>777</th>\n",
       "      <td>777</td>\n",
       "      <td>Yathecal72</td>\n",
       "      <td>20</td>\n",
       "      <td>Male</td>\n",
       "      <td>67</td>\n",
       "      <td>Celeste, Incarnation of the Corrupted</td>\n",
       "      <td>3.46</td>\n",
       "      <td>20-24</td>\n",
       "    </tr>\n",
       "    <tr>\n",
       "      <th>778</th>\n",
       "      <td>778</td>\n",
       "      <td>Sisur91</td>\n",
       "      <td>7</td>\n",
       "      <td>Male</td>\n",
       "      <td>92</td>\n",
       "      <td>Final Critic</td>\n",
       "      <td>4.19</td>\n",
       "      <td>&lt;10</td>\n",
       "    </tr>\n",
       "    <tr>\n",
       "      <th>779</th>\n",
       "      <td>779</td>\n",
       "      <td>Ennrian78</td>\n",
       "      <td>24</td>\n",
       "      <td>Male</td>\n",
       "      <td>50</td>\n",
       "      <td>Dawn</td>\n",
       "      <td>4.60</td>\n",
       "      <td>20-24</td>\n",
       "    </tr>\n",
       "  </tbody>\n",
       "</table>\n",
       "<p>780 rows × 8 columns</p>\n",
       "</div>"
      ],
      "text/plain": [
       "     Purchase ID             SN  Age  Gender  Item ID  \\\n",
       "0              0        Lisim78   20    Male      108   \n",
       "1              1    Lisovynya38   40    Male      143   \n",
       "2              2     Ithergue48   24    Male       92   \n",
       "3              3  Chamassasya86   24    Male      100   \n",
       "4              4      Iskosia90   23    Male      131   \n",
       "..           ...            ...  ...     ...      ...   \n",
       "775          775     Aethedru70   21  Female       60   \n",
       "776          776         Iral74   21    Male      164   \n",
       "777          777     Yathecal72   20    Male       67   \n",
       "778          778        Sisur91    7    Male       92   \n",
       "779          779      Ennrian78   24    Male       50   \n",
       "\n",
       "                                     Item Name  Price Age Ranges  \n",
       "0    Extraction, Quickblade Of Trembling Hands   3.53      20-24  \n",
       "1                            Frenzied Scimitar   1.56        40+  \n",
       "2                                 Final Critic   4.88      20-24  \n",
       "3                                  Blindscythe   3.27      20-24  \n",
       "4                                         Fury   1.44      20-24  \n",
       "..                                         ...    ...        ...  \n",
       "775                                       Wolf   3.54      20-24  \n",
       "776                           Exiled Doomblade   1.63      20-24  \n",
       "777      Celeste, Incarnation of the Corrupted   3.46      20-24  \n",
       "778                               Final Critic   4.19        <10  \n",
       "779                                       Dawn   4.60      20-24  \n",
       "\n",
       "[780 rows x 8 columns]"
      ]
     },
     "execution_count": 9,
     "metadata": {},
     "output_type": "execute_result"
    }
   ],
   "source": [
    "#Create bins based on the min and max age values\n",
    "age_bins = [0,9,14,19,24,29,34,39,46]\n",
    "\n",
    "#Create labels for these bins (8)\n",
    "group_labels = [\"<10\", \"10-14\", \"15-19\", \"20-24\", \"25-29\", \"30-34\",\n",
    "                \"35-39\", \"40+\"]\n",
    "\n",
    "#Slice the data and place it into bins\n",
    "purchase_data_df[\"Age Ranges\"] = pd.cut(purchase_data_df[\"Age\"],age_bins, labels=group_labels)\n",
    "\n",
    "#Check if the slicing and bining worked\n",
    "purchase_data_df"
   ]
  },
  {
   "cell_type": "code",
   "execution_count": 10,
   "metadata": {},
   "outputs": [
    {
     "data": {
      "text/html": [
       "<style  type=\"text/css\" >\n",
       "</style><table id=\"T_9615bc8c_14b8_11ec_9e00_9801a7a4a30b\" ><thead>    <tr>        <th class=\"blank level0\" ></th>        <th class=\"col_heading level0 col0\" >Total Count</th>        <th class=\"col_heading level0 col1\" >Percentage of Players</th>    </tr></thead><tbody>\n",
       "                <tr>\n",
       "                        <th id=\"T_9615bc8c_14b8_11ec_9e00_9801a7a4a30blevel0_row0\" class=\"row_heading level0 row0\" ><10</th>\n",
       "                        <td id=\"T_9615bc8c_14b8_11ec_9e00_9801a7a4a30brow0_col0\" class=\"data row0 col0\" >17</td>\n",
       "                        <td id=\"T_9615bc8c_14b8_11ec_9e00_9801a7a4a30brow0_col1\" class=\"data row0 col1\" >2.95%</td>\n",
       "            </tr>\n",
       "            <tr>\n",
       "                        <th id=\"T_9615bc8c_14b8_11ec_9e00_9801a7a4a30blevel0_row1\" class=\"row_heading level0 row1\" >10-14</th>\n",
       "                        <td id=\"T_9615bc8c_14b8_11ec_9e00_9801a7a4a30brow1_col0\" class=\"data row1 col0\" >22</td>\n",
       "                        <td id=\"T_9615bc8c_14b8_11ec_9e00_9801a7a4a30brow1_col1\" class=\"data row1 col1\" >3.82%</td>\n",
       "            </tr>\n",
       "            <tr>\n",
       "                        <th id=\"T_9615bc8c_14b8_11ec_9e00_9801a7a4a30blevel0_row2\" class=\"row_heading level0 row2\" >15-19</th>\n",
       "                        <td id=\"T_9615bc8c_14b8_11ec_9e00_9801a7a4a30brow2_col0\" class=\"data row2 col0\" >107</td>\n",
       "                        <td id=\"T_9615bc8c_14b8_11ec_9e00_9801a7a4a30brow2_col1\" class=\"data row2 col1\" >18.58%</td>\n",
       "            </tr>\n",
       "            <tr>\n",
       "                        <th id=\"T_9615bc8c_14b8_11ec_9e00_9801a7a4a30blevel0_row3\" class=\"row_heading level0 row3\" >20-24</th>\n",
       "                        <td id=\"T_9615bc8c_14b8_11ec_9e00_9801a7a4a30brow3_col0\" class=\"data row3 col0\" >258</td>\n",
       "                        <td id=\"T_9615bc8c_14b8_11ec_9e00_9801a7a4a30brow3_col1\" class=\"data row3 col1\" >44.79%</td>\n",
       "            </tr>\n",
       "            <tr>\n",
       "                        <th id=\"T_9615bc8c_14b8_11ec_9e00_9801a7a4a30blevel0_row4\" class=\"row_heading level0 row4\" >25-29</th>\n",
       "                        <td id=\"T_9615bc8c_14b8_11ec_9e00_9801a7a4a30brow4_col0\" class=\"data row4 col0\" >77</td>\n",
       "                        <td id=\"T_9615bc8c_14b8_11ec_9e00_9801a7a4a30brow4_col1\" class=\"data row4 col1\" >13.37%</td>\n",
       "            </tr>\n",
       "            <tr>\n",
       "                        <th id=\"T_9615bc8c_14b8_11ec_9e00_9801a7a4a30blevel0_row5\" class=\"row_heading level0 row5\" >30-34</th>\n",
       "                        <td id=\"T_9615bc8c_14b8_11ec_9e00_9801a7a4a30brow5_col0\" class=\"data row5 col0\" >52</td>\n",
       "                        <td id=\"T_9615bc8c_14b8_11ec_9e00_9801a7a4a30brow5_col1\" class=\"data row5 col1\" >9.03%</td>\n",
       "            </tr>\n",
       "            <tr>\n",
       "                        <th id=\"T_9615bc8c_14b8_11ec_9e00_9801a7a4a30blevel0_row6\" class=\"row_heading level0 row6\" >35-39</th>\n",
       "                        <td id=\"T_9615bc8c_14b8_11ec_9e00_9801a7a4a30brow6_col0\" class=\"data row6 col0\" >31</td>\n",
       "                        <td id=\"T_9615bc8c_14b8_11ec_9e00_9801a7a4a30brow6_col1\" class=\"data row6 col1\" >5.38%</td>\n",
       "            </tr>\n",
       "            <tr>\n",
       "                        <th id=\"T_9615bc8c_14b8_11ec_9e00_9801a7a4a30blevel0_row7\" class=\"row_heading level0 row7\" >40+</th>\n",
       "                        <td id=\"T_9615bc8c_14b8_11ec_9e00_9801a7a4a30brow7_col0\" class=\"data row7 col0\" >12</td>\n",
       "                        <td id=\"T_9615bc8c_14b8_11ec_9e00_9801a7a4a30brow7_col1\" class=\"data row7 col1\" >2.08%</td>\n",
       "            </tr>\n",
       "    </tbody></table>"
      ],
      "text/plain": [
       "<pandas.io.formats.style.Styler at 0x7fa6942a9eb8>"
      ]
     },
     "execution_count": 10,
     "metadata": {},
     "output_type": "execute_result"
    }
   ],
   "source": [
    "#Group data by the Age Group Bins created\n",
    "age_ranges = purchase_data_df.groupby(\"Age Ranges\")\n",
    "\n",
    "#Calculate the total count and percentage by age\n",
    "total_by_age = age_ranges[\"SN\"].nunique()\n",
    "percentage_by_age = (total_by_age/players_count) * 100\n",
    "\n",
    "#Clean the Dataframe output with proper formatting \n",
    "age_demographics = pd.DataFrame({\"Total Count\": total_by_age, \"Percentage of Players\": percentage_by_age})\n",
    "age_demographics.index.name = None\n",
    "age_demographics.style.format({\"Percentage of Players\":\"{:,.2f}%\"})"
   ]
  },
  {
   "cell_type": "markdown",
   "metadata": {},
   "source": [
    "## Purchasing Analysis (Age)"
   ]
  },
  {
   "cell_type": "markdown",
   "metadata": {},
   "source": [
    "* Bin the purchase_data data frame by age\n",
    "\n",
    "\n",
    "* Run basic calculations to obtain purchase count, avg. purchase price, avg. purchase total per person etc. in the table below\n",
    "\n",
    "\n",
    "* Create a summary data frame to hold the results\n",
    "\n",
    "\n",
    "* Optional: give the displayed data cleaner formatting\n",
    "\n",
    "\n",
    "* Display the summary data frame"
   ]
  },
  {
   "cell_type": "code",
   "execution_count": 11,
   "metadata": {},
   "outputs": [
    {
     "ename": "NameError",
     "evalue": "name 'age_grouped' is not defined",
     "output_type": "error",
     "traceback": [
      "\u001b[0;31m---------------------------------------------------------------------------\u001b[0m",
      "\u001b[0;31mNameError\u001b[0m                                 Traceback (most recent call last)",
      "\u001b[0;32m<ipython-input-11-1d0b962cce64>\u001b[0m in \u001b[0;36m<module>\u001b[0;34m\u001b[0m\n\u001b[1;32m      1\u001b[0m \u001b[0;31m#Calculate the purchase count, average purchase price, total purchase value, and average purchase per person by age (grouped by age = gba)\u001b[0m\u001b[0;34m\u001b[0m\u001b[0;34m\u001b[0m\u001b[0;34m\u001b[0m\u001b[0m\n\u001b[0;32m----> 2\u001b[0;31m \u001b[0mgba_purchase_count\u001b[0m\u001b[0;34m=\u001b[0m\u001b[0mage_grouped\u001b[0m\u001b[0;34m[\u001b[0m\u001b[0;34m'Purchase ID'\u001b[0m\u001b[0;34m]\u001b[0m\u001b[0;34m.\u001b[0m\u001b[0mcount\u001b[0m\u001b[0;34m(\u001b[0m\u001b[0;34m)\u001b[0m\u001b[0;34m\u001b[0m\u001b[0;34m\u001b[0m\u001b[0m\n\u001b[0m\u001b[1;32m      3\u001b[0m \u001b[0mgba_avg_purchase_price\u001b[0m\u001b[0;34m=\u001b[0m\u001b[0mage_grouped\u001b[0m\u001b[0;34m[\u001b[0m\u001b[0;34m'Price'\u001b[0m\u001b[0;34m]\u001b[0m\u001b[0;34m.\u001b[0m\u001b[0mmean\u001b[0m\u001b[0;34m(\u001b[0m\u001b[0;34m)\u001b[0m\u001b[0;34m\u001b[0m\u001b[0;34m\u001b[0m\u001b[0m\n\u001b[1;32m      4\u001b[0m \u001b[0mgba_total_purchase\u001b[0m\u001b[0;34m=\u001b[0m\u001b[0mage_grouped\u001b[0m\u001b[0;34m[\u001b[0m\u001b[0;34m'Price'\u001b[0m\u001b[0;34m]\u001b[0m\u001b[0;34m.\u001b[0m\u001b[0msum\u001b[0m\u001b[0;34m(\u001b[0m\u001b[0;34m)\u001b[0m\u001b[0;34m\u001b[0m\u001b[0;34m\u001b[0m\u001b[0m\n\u001b[1;32m      5\u001b[0m \u001b[0mgba_ind_purchase_price\u001b[0m\u001b[0;34m=\u001b[0m\u001b[0mgba_total_purchase\u001b[0m\u001b[0;34m/\u001b[0m\u001b[0mtotal_by_age\u001b[0m\u001b[0;34m\u001b[0m\u001b[0;34m\u001b[0m\u001b[0m\n",
      "\u001b[0;31mNameError\u001b[0m: name 'age_grouped' is not defined"
     ]
    }
   ],
   "source": [
    "#Calculate the purchase count, average purchase price, total purchase value, and average purchase per person by age (grouped by age = gba)\n",
    "gba_purchase_count=age_grouped['Purchase ID'].count()\n",
    "gba_avg_purchase_price=age_grouped['Price'].mean()\n",
    "gba_total_purchase=age_grouped['Price'].sum()\n",
    "gba_ind_purchase_price=gba_total_purchase/total_by_age\n",
    "\n",
    "#Create summary of results Dataframe\n",
    "age_demo_analysis = pd.DataFrame({\n",
    "    'Purchase Count':gba_purchase_count,\n",
    "    'Average Purchase Price':gba_avg_purchase_price,\n",
    "    'Total Purchase Value':gba_total_purchase,\n",
    "    'Avg Total Purchase per Person':gba_ind_purchase_price\n",
    "})\n",
    "\n",
    "#Clean up the Dataframe and set the index as the gender\n",
    "age_demo_analysis.index.name = 'Age Ranges'\n",
    "age_demo_analysis.style.format({\n",
    "    'Average Purchase Price':\"${:,.2f}\",\n",
    "    'Total Purchase Value':\"${:,.2f}\",\n",
    "    'Avg Total Purchase per Person':\"${:,.2f}\"\n",
    "})"
   ]
  },
  {
   "cell_type": "markdown",
   "metadata": {},
   "source": [
    "## Top Spenders"
   ]
  },
  {
   "cell_type": "markdown",
   "metadata": {},
   "source": [
    "* Run basic calculations to obtain the results in the table below\n",
    "\n",
    "\n",
    "* Create a summary data frame to hold the results\n",
    "\n",
    "\n",
    "* Sort the total purchase value column in descending order\n",
    "\n",
    "\n",
    "* Optional: give the displayed data cleaner formatting\n",
    "\n",
    "\n",
    "* Display a preview of the summary data frame\n",
    "\n"
   ]
  },
  {
   "cell_type": "code",
   "execution_count": 12,
   "metadata": {},
   "outputs": [
    {
     "data": {
      "text/html": [
       "<style  type=\"text/css\" >\n",
       "</style><table id=\"T_99a7e2ba_14b8_11ec_96be_9801a7a4a30b\" ><thead>    <tr>        <th class=\"blank level0\" ></th>        <th class=\"col_heading level0 col0\" >Purchase Count</th>        <th class=\"col_heading level0 col1\" >Average Purchase Price</th>        <th class=\"col_heading level0 col2\" >Total Purchase Value</th>    </tr>    <tr>        <th class=\"index_name level0\" >SN</th>        <th class=\"blank\" ></th>        <th class=\"blank\" ></th>        <th class=\"blank\" ></th>    </tr></thead><tbody>\n",
       "                <tr>\n",
       "                        <th id=\"T_99a7e2ba_14b8_11ec_96be_9801a7a4a30blevel0_row0\" class=\"row_heading level0 row0\" >Lisosia93</th>\n",
       "                        <td id=\"T_99a7e2ba_14b8_11ec_96be_9801a7a4a30brow0_col0\" class=\"data row0 col0\" >5</td>\n",
       "                        <td id=\"T_99a7e2ba_14b8_11ec_96be_9801a7a4a30brow0_col1\" class=\"data row0 col1\" >$3.79</td>\n",
       "                        <td id=\"T_99a7e2ba_14b8_11ec_96be_9801a7a4a30brow0_col2\" class=\"data row0 col2\" >$18.96</td>\n",
       "            </tr>\n",
       "            <tr>\n",
       "                        <th id=\"T_99a7e2ba_14b8_11ec_96be_9801a7a4a30blevel0_row1\" class=\"row_heading level0 row1\" >Idastidru52</th>\n",
       "                        <td id=\"T_99a7e2ba_14b8_11ec_96be_9801a7a4a30brow1_col0\" class=\"data row1 col0\" >4</td>\n",
       "                        <td id=\"T_99a7e2ba_14b8_11ec_96be_9801a7a4a30brow1_col1\" class=\"data row1 col1\" >$3.86</td>\n",
       "                        <td id=\"T_99a7e2ba_14b8_11ec_96be_9801a7a4a30brow1_col2\" class=\"data row1 col2\" >$15.45</td>\n",
       "            </tr>\n",
       "            <tr>\n",
       "                        <th id=\"T_99a7e2ba_14b8_11ec_96be_9801a7a4a30blevel0_row2\" class=\"row_heading level0 row2\" >Chamjask73</th>\n",
       "                        <td id=\"T_99a7e2ba_14b8_11ec_96be_9801a7a4a30brow2_col0\" class=\"data row2 col0\" >3</td>\n",
       "                        <td id=\"T_99a7e2ba_14b8_11ec_96be_9801a7a4a30brow2_col1\" class=\"data row2 col1\" >$4.61</td>\n",
       "                        <td id=\"T_99a7e2ba_14b8_11ec_96be_9801a7a4a30brow2_col2\" class=\"data row2 col2\" >$13.83</td>\n",
       "            </tr>\n",
       "            <tr>\n",
       "                        <th id=\"T_99a7e2ba_14b8_11ec_96be_9801a7a4a30blevel0_row3\" class=\"row_heading level0 row3\" >Iral74</th>\n",
       "                        <td id=\"T_99a7e2ba_14b8_11ec_96be_9801a7a4a30brow3_col0\" class=\"data row3 col0\" >4</td>\n",
       "                        <td id=\"T_99a7e2ba_14b8_11ec_96be_9801a7a4a30brow3_col1\" class=\"data row3 col1\" >$3.40</td>\n",
       "                        <td id=\"T_99a7e2ba_14b8_11ec_96be_9801a7a4a30brow3_col2\" class=\"data row3 col2\" >$13.62</td>\n",
       "            </tr>\n",
       "            <tr>\n",
       "                        <th id=\"T_99a7e2ba_14b8_11ec_96be_9801a7a4a30blevel0_row4\" class=\"row_heading level0 row4\" >Iskadarya95</th>\n",
       "                        <td id=\"T_99a7e2ba_14b8_11ec_96be_9801a7a4a30brow4_col0\" class=\"data row4 col0\" >3</td>\n",
       "                        <td id=\"T_99a7e2ba_14b8_11ec_96be_9801a7a4a30brow4_col1\" class=\"data row4 col1\" >$4.37</td>\n",
       "                        <td id=\"T_99a7e2ba_14b8_11ec_96be_9801a7a4a30brow4_col2\" class=\"data row4 col2\" >$13.10</td>\n",
       "            </tr>\n",
       "    </tbody></table>"
      ],
      "text/plain": [
       "<pandas.io.formats.style.Styler at 0x7fa6942d9278>"
      ]
     },
     "execution_count": 12,
     "metadata": {},
     "output_type": "execute_result"
    }
   ],
   "source": [
    "#Group the data by SN to filter the values needed\n",
    "groupby_spender = purchase_data_df.groupby(\"SN\")\n",
    "\n",
    "#calculate the purchase count, average purchase price and total purchase value per SN(group by spender - gbs)\n",
    "gbs_purchase_count=groupby_spender['Purchase ID'].count()\n",
    "gbs_avg_purchase_price=groupby_spender['Price'].mean()\n",
    "gbs_total_purchase_price=groupby_spender['Price'].sum()\n",
    "\n",
    "#Create summary of results Dataframe\n",
    "spender_stats_analysis = pd.DataFrame({\n",
    "    'Purchase Count':gbs_purchase_count,\n",
    "    'Average Purchase Price':gbs_avg_purchase_price,\n",
    "    'Total Purchase Value':gbs_total_purchase_price\n",
    "})\n",
    "\n",
    "#Sort the values from highest total purchase value to lowest\n",
    "top_spenders = spender_stats_analysis.sort_values([\"Total Purchase Value\"], ascending=False).head()\n",
    "\n",
    "#Clean up the Dataframe and set the index as SN\n",
    "top_spenders.index.name = 'SN'\n",
    "top_spenders.style.format({\n",
    "    'Average Purchase Price':\"${:,.2f}\",\n",
    "    'Total Purchase Value':\"${:,.2f}\"\n",
    "})"
   ]
  },
  {
   "cell_type": "markdown",
   "metadata": {},
   "source": [
    "## Most Popular Items"
   ]
  },
  {
   "cell_type": "markdown",
   "metadata": {},
   "source": [
    "* Retrieve the Item ID, Item Name, and Item Price columns\n",
    "\n",
    "\n",
    "* Group by Item ID and Item Name. Perform calculations to obtain purchase count, average item price, and total purchase value\n",
    "\n",
    "\n",
    "* Create a summary data frame to hold the results\n",
    "\n",
    "\n",
    "* Sort the purchase count column in descending order\n",
    "\n",
    "\n",
    "* Optional: give the displayed data cleaner formatting\n",
    "\n",
    "\n",
    "* Display a preview of the summary data frame\n",
    "\n"
   ]
  },
  {
   "cell_type": "code",
   "execution_count": 13,
   "metadata": {},
   "outputs": [
    {
     "data": {
      "text/html": [
       "<style  type=\"text/css\" >\n",
       "</style><table id=\"T_9aa60f74_14b8_11ec_a016_9801a7a4a30b\" ><thead>    <tr>        <th class=\"blank\" ></th>        <th class=\"blank level0\" ></th>        <th class=\"col_heading level0 col0\" >Purchase Count</th>        <th class=\"col_heading level0 col1\" >Item Price</th>        <th class=\"col_heading level0 col2\" >Total Purchase Value</th>    </tr>    <tr>        <th class=\"index_name level0\" >Item ID</th>        <th class=\"index_name level1\" >Item Name</th>        <th class=\"blank\" ></th>        <th class=\"blank\" ></th>        <th class=\"blank\" ></th>    </tr></thead><tbody>\n",
       "                <tr>\n",
       "                        <th id=\"T_9aa60f74_14b8_11ec_a016_9801a7a4a30blevel0_row0\" class=\"row_heading level0 row0\" >92</th>\n",
       "                        <th id=\"T_9aa60f74_14b8_11ec_a016_9801a7a4a30blevel1_row0\" class=\"row_heading level1 row0\" >Final Critic</th>\n",
       "                        <td id=\"T_9aa60f74_14b8_11ec_a016_9801a7a4a30brow0_col0\" class=\"data row0 col0\" >13</td>\n",
       "                        <td id=\"T_9aa60f74_14b8_11ec_a016_9801a7a4a30brow0_col1\" class=\"data row0 col1\" >$4.61</td>\n",
       "                        <td id=\"T_9aa60f74_14b8_11ec_a016_9801a7a4a30brow0_col2\" class=\"data row0 col2\" >$59.99</td>\n",
       "            </tr>\n",
       "            <tr>\n",
       "                        <th id=\"T_9aa60f74_14b8_11ec_a016_9801a7a4a30blevel0_row1\" class=\"row_heading level0 row1\" >178</th>\n",
       "                        <th id=\"T_9aa60f74_14b8_11ec_a016_9801a7a4a30blevel1_row1\" class=\"row_heading level1 row1\" >Oathbreaker, Last Hope of the Breaking Storm</th>\n",
       "                        <td id=\"T_9aa60f74_14b8_11ec_a016_9801a7a4a30brow1_col0\" class=\"data row1 col0\" >12</td>\n",
       "                        <td id=\"T_9aa60f74_14b8_11ec_a016_9801a7a4a30brow1_col1\" class=\"data row1 col1\" >$4.23</td>\n",
       "                        <td id=\"T_9aa60f74_14b8_11ec_a016_9801a7a4a30brow1_col2\" class=\"data row1 col2\" >$50.76</td>\n",
       "            </tr>\n",
       "            <tr>\n",
       "                        <th id=\"T_9aa60f74_14b8_11ec_a016_9801a7a4a30blevel0_row2\" class=\"row_heading level0 row2\" >145</th>\n",
       "                        <th id=\"T_9aa60f74_14b8_11ec_a016_9801a7a4a30blevel1_row2\" class=\"row_heading level1 row2\" >Fiery Glass Crusader</th>\n",
       "                        <td id=\"T_9aa60f74_14b8_11ec_a016_9801a7a4a30brow2_col0\" class=\"data row2 col0\" >9</td>\n",
       "                        <td id=\"T_9aa60f74_14b8_11ec_a016_9801a7a4a30brow2_col1\" class=\"data row2 col1\" >$4.58</td>\n",
       "                        <td id=\"T_9aa60f74_14b8_11ec_a016_9801a7a4a30brow2_col2\" class=\"data row2 col2\" >$41.22</td>\n",
       "            </tr>\n",
       "            <tr>\n",
       "                        <th id=\"T_9aa60f74_14b8_11ec_a016_9801a7a4a30blevel0_row3\" class=\"row_heading level0 row3\" >132</th>\n",
       "                        <th id=\"T_9aa60f74_14b8_11ec_a016_9801a7a4a30blevel1_row3\" class=\"row_heading level1 row3\" >Persuasion</th>\n",
       "                        <td id=\"T_9aa60f74_14b8_11ec_a016_9801a7a4a30brow3_col0\" class=\"data row3 col0\" >9</td>\n",
       "                        <td id=\"T_9aa60f74_14b8_11ec_a016_9801a7a4a30brow3_col1\" class=\"data row3 col1\" >$3.22</td>\n",
       "                        <td id=\"T_9aa60f74_14b8_11ec_a016_9801a7a4a30brow3_col2\" class=\"data row3 col2\" >$28.99</td>\n",
       "            </tr>\n",
       "            <tr>\n",
       "                        <th id=\"T_9aa60f74_14b8_11ec_a016_9801a7a4a30blevel0_row4\" class=\"row_heading level0 row4\" >108</th>\n",
       "                        <th id=\"T_9aa60f74_14b8_11ec_a016_9801a7a4a30blevel1_row4\" class=\"row_heading level1 row4\" >Extraction, Quickblade Of Trembling Hands</th>\n",
       "                        <td id=\"T_9aa60f74_14b8_11ec_a016_9801a7a4a30brow4_col0\" class=\"data row4 col0\" >9</td>\n",
       "                        <td id=\"T_9aa60f74_14b8_11ec_a016_9801a7a4a30brow4_col1\" class=\"data row4 col1\" >$3.53</td>\n",
       "                        <td id=\"T_9aa60f74_14b8_11ec_a016_9801a7a4a30brow4_col2\" class=\"data row4 col2\" >$31.77</td>\n",
       "            </tr>\n",
       "    </tbody></table>"
      ],
      "text/plain": [
       "<pandas.io.formats.style.Styler at 0x7fa691de7b00>"
      ]
     },
     "execution_count": 13,
     "metadata": {},
     "output_type": "execute_result"
    }
   ],
   "source": [
    "#Retrieve the Item ID, Item Name, and Item Price columns\n",
    "items=purchase_data_df[['Item ID','Item Name','Price']]\n",
    "\n",
    "#Group the data by Item ID and Item Name\n",
    "groupby_items=items.groupby(['Item ID','Item Name'])\n",
    "\n",
    "#Calculate the purchase count, item price and total purchase value per item (group by item - gbi)\n",
    "gbi_purchase_count=groupby_items['Price'].count()\n",
    "gbi_avg_purchase_price=groupby_items['Price'].mean()\n",
    "gbi_total_purchase_value=groupby_items['Price'].sum()\n",
    "\n",
    "#Create summary of results Dataframe\n",
    "item_stats_analysis = pd.DataFrame({\n",
    "    'Purchase Count':gbi_purchase_count,\n",
    "    'Item Price':gbi_avg_purchase_price,\n",
    "    'Total Purchase Value':gbi_total_purchase_value\n",
    "})\n",
    "\n",
    "#Sort the values from highest purchase count value to lowest\n",
    "popular_items = item_stats_analysis.sort_values([\"Purchase Count\"], ascending=False).head()\n",
    "\n",
    "#Clean up the Dataframe output format\n",
    "popular_items.style.format({\n",
    "    'Item Price':\"${:,.2f}\",\n",
    "    'Total Purchase Value':\"${:,.2f}\"\n",
    "})"
   ]
  },
  {
   "cell_type": "markdown",
   "metadata": {},
   "source": [
    "## Most Profitable Items"
   ]
  },
  {
   "cell_type": "markdown",
   "metadata": {},
   "source": [
    "* Sort the above table by total purchase value in descending order\n",
    "\n",
    "\n",
    "* Optional: give the displayed data cleaner formatting\n",
    "\n",
    "\n",
    "* Display a preview of the data frame\n",
    "\n"
   ]
  },
  {
   "cell_type": "code",
   "execution_count": 14,
   "metadata": {
    "scrolled": true
   },
   "outputs": [
    {
     "data": {
      "text/html": [
       "<style  type=\"text/css\" >\n",
       "</style><table id=\"T_9b756706_14b8_11ec_a302_9801a7a4a30b\" ><thead>    <tr>        <th class=\"blank\" ></th>        <th class=\"blank level0\" ></th>        <th class=\"col_heading level0 col0\" >Purchase Count</th>        <th class=\"col_heading level0 col1\" >Item Price</th>        <th class=\"col_heading level0 col2\" >Total Purchase Value</th>    </tr>    <tr>        <th class=\"index_name level0\" >Item ID</th>        <th class=\"index_name level1\" >Item Name</th>        <th class=\"blank\" ></th>        <th class=\"blank\" ></th>        <th class=\"blank\" ></th>    </tr></thead><tbody>\n",
       "                <tr>\n",
       "                        <th id=\"T_9b756706_14b8_11ec_a302_9801a7a4a30blevel0_row0\" class=\"row_heading level0 row0\" >92</th>\n",
       "                        <th id=\"T_9b756706_14b8_11ec_a302_9801a7a4a30blevel1_row0\" class=\"row_heading level1 row0\" >Final Critic</th>\n",
       "                        <td id=\"T_9b756706_14b8_11ec_a302_9801a7a4a30brow0_col0\" class=\"data row0 col0\" >13</td>\n",
       "                        <td id=\"T_9b756706_14b8_11ec_a302_9801a7a4a30brow0_col1\" class=\"data row0 col1\" >$4.61</td>\n",
       "                        <td id=\"T_9b756706_14b8_11ec_a302_9801a7a4a30brow0_col2\" class=\"data row0 col2\" >$59.99</td>\n",
       "            </tr>\n",
       "            <tr>\n",
       "                        <th id=\"T_9b756706_14b8_11ec_a302_9801a7a4a30blevel0_row1\" class=\"row_heading level0 row1\" >178</th>\n",
       "                        <th id=\"T_9b756706_14b8_11ec_a302_9801a7a4a30blevel1_row1\" class=\"row_heading level1 row1\" >Oathbreaker, Last Hope of the Breaking Storm</th>\n",
       "                        <td id=\"T_9b756706_14b8_11ec_a302_9801a7a4a30brow1_col0\" class=\"data row1 col0\" >12</td>\n",
       "                        <td id=\"T_9b756706_14b8_11ec_a302_9801a7a4a30brow1_col1\" class=\"data row1 col1\" >$4.23</td>\n",
       "                        <td id=\"T_9b756706_14b8_11ec_a302_9801a7a4a30brow1_col2\" class=\"data row1 col2\" >$50.76</td>\n",
       "            </tr>\n",
       "            <tr>\n",
       "                        <th id=\"T_9b756706_14b8_11ec_a302_9801a7a4a30blevel0_row2\" class=\"row_heading level0 row2\" >82</th>\n",
       "                        <th id=\"T_9b756706_14b8_11ec_a302_9801a7a4a30blevel1_row2\" class=\"row_heading level1 row2\" >Nirvana</th>\n",
       "                        <td id=\"T_9b756706_14b8_11ec_a302_9801a7a4a30brow2_col0\" class=\"data row2 col0\" >9</td>\n",
       "                        <td id=\"T_9b756706_14b8_11ec_a302_9801a7a4a30brow2_col1\" class=\"data row2 col1\" >$4.90</td>\n",
       "                        <td id=\"T_9b756706_14b8_11ec_a302_9801a7a4a30brow2_col2\" class=\"data row2 col2\" >$44.10</td>\n",
       "            </tr>\n",
       "            <tr>\n",
       "                        <th id=\"T_9b756706_14b8_11ec_a302_9801a7a4a30blevel0_row3\" class=\"row_heading level0 row3\" >145</th>\n",
       "                        <th id=\"T_9b756706_14b8_11ec_a302_9801a7a4a30blevel1_row3\" class=\"row_heading level1 row3\" >Fiery Glass Crusader</th>\n",
       "                        <td id=\"T_9b756706_14b8_11ec_a302_9801a7a4a30brow3_col0\" class=\"data row3 col0\" >9</td>\n",
       "                        <td id=\"T_9b756706_14b8_11ec_a302_9801a7a4a30brow3_col1\" class=\"data row3 col1\" >$4.58</td>\n",
       "                        <td id=\"T_9b756706_14b8_11ec_a302_9801a7a4a30brow3_col2\" class=\"data row3 col2\" >$41.22</td>\n",
       "            </tr>\n",
       "            <tr>\n",
       "                        <th id=\"T_9b756706_14b8_11ec_a302_9801a7a4a30blevel0_row4\" class=\"row_heading level0 row4\" >103</th>\n",
       "                        <th id=\"T_9b756706_14b8_11ec_a302_9801a7a4a30blevel1_row4\" class=\"row_heading level1 row4\" >Singed Scalpel</th>\n",
       "                        <td id=\"T_9b756706_14b8_11ec_a302_9801a7a4a30brow4_col0\" class=\"data row4 col0\" >8</td>\n",
       "                        <td id=\"T_9b756706_14b8_11ec_a302_9801a7a4a30brow4_col1\" class=\"data row4 col1\" >$4.35</td>\n",
       "                        <td id=\"T_9b756706_14b8_11ec_a302_9801a7a4a30brow4_col2\" class=\"data row4 col2\" >$34.80</td>\n",
       "            </tr>\n",
       "    </tbody></table>"
      ],
      "text/plain": [
       "<pandas.io.formats.style.Styler at 0x7fa6932032e8>"
      ]
     },
     "execution_count": 14,
     "metadata": {},
     "output_type": "execute_result"
    }
   ],
   "source": [
    "#Sort the Total Purchase Value from highest to lowest to determine the most profitable items\n",
    "popular_items = item_stats_analysis.sort_values([\"Total Purchase Value\"],\n",
    "                                        ascending=False).head()\n",
    "#Clean Dataframe formatting \n",
    "popular_items.style.format({\"Item Price\":\"${:,.2f}\",\n",
    "                            \"Total Purchase Value\":\"${:,.2f}\"})"
   ]
  },
  {
   "cell_type": "code",
   "execution_count": null,
   "metadata": {},
   "outputs": [],
   "source": []
  }
 ],
 "metadata": {
  "anaconda-cloud": {},
  "kernel_info": {
   "name": "python3"
  },
  "kernelspec": {
   "display_name": "Python 3",
   "language": "python",
   "name": "python3"
  },
  "language_info": {
   "codemirror_mode": {
    "name": "ipython",
    "version": 3
   },
   "file_extension": ".py",
   "mimetype": "text/x-python",
   "name": "python",
   "nbconvert_exporter": "python",
   "pygments_lexer": "ipython3",
   "version": "3.6.13"
  },
  "latex_envs": {
   "LaTeX_envs_menu_present": true,
   "autoclose": false,
   "autocomplete": true,
   "bibliofile": "biblio.bib",
   "cite_by": "apalike",
   "current_citInitial": 1,
   "eqLabelWithNumbers": true,
   "eqNumInitial": 1,
   "hotkeys": {
    "equation": "Ctrl-E",
    "itemize": "Ctrl-I"
   },
   "labels_anchors": false,
   "latex_user_defs": false,
   "report_style_numbering": false,
   "user_envs_cfg": false
  },
  "nteract": {
   "version": "0.2.0"
  }
 },
 "nbformat": 4,
 "nbformat_minor": 2
}
