{
 "cells": [
  {
   "cell_type": "code",
   "execution_count": 156,
   "id": "fdc7ec39",
   "metadata": {},
   "outputs": [],
   "source": [
    "# Dependencies and Setup\n",
    "import pandas as pd\n",
    "\n",
    "# File to Load (Remember to Change These)\n",
    "file_to_load = \"Resources/purchase_data.csv\"\n",
    "\n",
    "# Read Purchasing File and store into Pandas data frame\n",
    "purchase_data_df = pd.read_csv(file_to_load)"
   ]
  },
  {
   "cell_type": "code",
   "execution_count": 157,
   "id": "fe7f7fd0",
   "metadata": {
    "scrolled": true
   },
   "outputs": [
    {
     "data": {
      "text/html": [
       "<div>\n",
       "<style scoped>\n",
       "    .dataframe tbody tr th:only-of-type {\n",
       "        vertical-align: middle;\n",
       "    }\n",
       "\n",
       "    .dataframe tbody tr th {\n",
       "        vertical-align: top;\n",
       "    }\n",
       "\n",
       "    .dataframe thead th {\n",
       "        text-align: right;\n",
       "    }\n",
       "</style>\n",
       "<table border=\"1\" class=\"dataframe\">\n",
       "  <thead>\n",
       "    <tr style=\"text-align: right;\">\n",
       "      <th></th>\n",
       "      <th>Purchase ID</th>\n",
       "      <th>SN</th>\n",
       "      <th>Age</th>\n",
       "      <th>Gender</th>\n",
       "      <th>Item ID</th>\n",
       "      <th>Item Name</th>\n",
       "      <th>Price</th>\n",
       "    </tr>\n",
       "  </thead>\n",
       "  <tbody>\n",
       "    <tr>\n",
       "      <th>0</th>\n",
       "      <td>0</td>\n",
       "      <td>Lisim78</td>\n",
       "      <td>20</td>\n",
       "      <td>Male</td>\n",
       "      <td>108</td>\n",
       "      <td>Extraction, Quickblade Of Trembling Hands</td>\n",
       "      <td>3.53</td>\n",
       "    </tr>\n",
       "    <tr>\n",
       "      <th>1</th>\n",
       "      <td>1</td>\n",
       "      <td>Lisovynya38</td>\n",
       "      <td>40</td>\n",
       "      <td>Male</td>\n",
       "      <td>143</td>\n",
       "      <td>Frenzied Scimitar</td>\n",
       "      <td>1.56</td>\n",
       "    </tr>\n",
       "    <tr>\n",
       "      <th>2</th>\n",
       "      <td>2</td>\n",
       "      <td>Ithergue48</td>\n",
       "      <td>24</td>\n",
       "      <td>Male</td>\n",
       "      <td>92</td>\n",
       "      <td>Final Critic</td>\n",
       "      <td>4.88</td>\n",
       "    </tr>\n",
       "    <tr>\n",
       "      <th>3</th>\n",
       "      <td>3</td>\n",
       "      <td>Chamassasya86</td>\n",
       "      <td>24</td>\n",
       "      <td>Male</td>\n",
       "      <td>100</td>\n",
       "      <td>Blindscythe</td>\n",
       "      <td>3.27</td>\n",
       "    </tr>\n",
       "    <tr>\n",
       "      <th>4</th>\n",
       "      <td>4</td>\n",
       "      <td>Iskosia90</td>\n",
       "      <td>23</td>\n",
       "      <td>Male</td>\n",
       "      <td>131</td>\n",
       "      <td>Fury</td>\n",
       "      <td>1.44</td>\n",
       "    </tr>\n",
       "  </tbody>\n",
       "</table>\n",
       "</div>"
      ],
      "text/plain": [
       "   Purchase ID             SN  Age Gender  Item ID  \\\n",
       "0            0        Lisim78   20   Male      108   \n",
       "1            1    Lisovynya38   40   Male      143   \n",
       "2            2     Ithergue48   24   Male       92   \n",
       "3            3  Chamassasya86   24   Male      100   \n",
       "4            4      Iskosia90   23   Male      131   \n",
       "\n",
       "                                   Item Name  Price  \n",
       "0  Extraction, Quickblade Of Trembling Hands   3.53  \n",
       "1                          Frenzied Scimitar   1.56  \n",
       "2                               Final Critic   4.88  \n",
       "3                                Blindscythe   3.27  \n",
       "4                                       Fury   1.44  "
      ]
     },
     "execution_count": 157,
     "metadata": {},
     "output_type": "execute_result"
    }
   ],
   "source": [
    "#print data to get a sense of what we are dealing with\n",
    "purchase_data_df.head()"
   ]
  },
  {
   "cell_type": "code",
   "execution_count": 158,
   "id": "7c89474d",
   "metadata": {},
   "outputs": [],
   "source": [
    "##Player Count\n",
    "#Calculate count of players by finding unique SN values\n",
    "players_count = purchase_data_df['SN'].nunique()"
   ]
  },
  {
   "cell_type": "code",
   "execution_count": 159,
   "id": "0bfbe4c0",
   "metadata": {},
   "outputs": [
    {
     "data": {
      "text/plain": [
       "576"
      ]
     },
     "execution_count": 159,
     "metadata": {},
     "output_type": "execute_result"
    }
   ],
   "source": [
    "players_count"
   ]
  },
  {
   "cell_type": "code",
   "execution_count": 160,
   "id": "0a10f477",
   "metadata": {
    "scrolled": true
   },
   "outputs": [
    {
     "data": {
      "text/html": [
       "<div>\n",
       "<style scoped>\n",
       "    .dataframe tbody tr th:only-of-type {\n",
       "        vertical-align: middle;\n",
       "    }\n",
       "\n",
       "    .dataframe tbody tr th {\n",
       "        vertical-align: top;\n",
       "    }\n",
       "\n",
       "    .dataframe thead th {\n",
       "        text-align: right;\n",
       "    }\n",
       "</style>\n",
       "<table border=\"1\" class=\"dataframe\">\n",
       "  <thead>\n",
       "    <tr style=\"text-align: right;\">\n",
       "      <th></th>\n",
       "      <th>Total Players</th>\n",
       "    </tr>\n",
       "  </thead>\n",
       "  <tbody>\n",
       "    <tr>\n",
       "      <th>0</th>\n",
       "      <td>576</td>\n",
       "    </tr>\n",
       "  </tbody>\n",
       "</table>\n",
       "</div>"
      ],
      "text/plain": [
       "   Total Players\n",
       "0            576"
      ]
     },
     "execution_count": 160,
     "metadata": {},
     "output_type": "execute_result"
    }
   ],
   "source": [
    "#Convert the players_count series into a Dataframe\n",
    "pd.DataFrame({\n",
    "    \"Total Players\": [players_count]\n",
    "})"
   ]
  },
  {
   "cell_type": "code",
   "execution_count": 161,
   "id": "7fcdc847",
   "metadata": {},
   "outputs": [
    {
     "data": {
      "text/plain": [
       "179"
      ]
     },
     "execution_count": 161,
     "metadata": {},
     "output_type": "execute_result"
    }
   ],
   "source": [
    "##PURCHASES ANALYSIS\n",
    "#calculate number of unique items\n",
    "unique_items = purchase_data_df['Item Name'].nunique()\n",
    "unique_items"
   ]
  },
  {
   "cell_type": "code",
   "execution_count": 162,
   "id": "9ccd33a5",
   "metadata": {},
   "outputs": [
    {
     "data": {
      "text/plain": [
       "3.0509871794871795"
      ]
     },
     "execution_count": 162,
     "metadata": {},
     "output_type": "execute_result"
    }
   ],
   "source": [
    "#calculate avg purchase price\n",
    "# The mean method averages the series\n",
    "average_purchase_price = purchase_data_df['Price'].mean()\n",
    "average_purchase_price"
   ]
  },
  {
   "cell_type": "code",
   "execution_count": 163,
   "id": "f715e9cf",
   "metadata": {},
   "outputs": [
    {
     "data": {
      "text/plain": [
       "780"
      ]
     },
     "execution_count": 163,
     "metadata": {},
     "output_type": "execute_result"
    }
   ],
   "source": [
    "#calculate the number of purchases\n",
    "purchases_count = purchase_data_df['Purchase ID'].count()\n",
    "purchases_count"
   ]
  },
  {
   "cell_type": "code",
   "execution_count": 164,
   "id": "ce1f141a",
   "metadata": {},
   "outputs": [
    {
     "data": {
      "text/plain": [
       "2379.77"
      ]
     },
     "execution_count": 164,
     "metadata": {},
     "output_type": "execute_result"
    }
   ],
   "source": [
    "#calculate the total revenue of purchases\n",
    "total_revenue = purchase_data_df['Price'].sum()\n",
    "total_revenue"
   ]
  },
  {
   "cell_type": "code",
   "execution_count": 165,
   "id": "dd2c10c8",
   "metadata": {},
   "outputs": [],
   "source": [
    "#Create summary of results\n",
    "purchasing_analysis_df = pd.DataFrame({\n",
    "    'Number of Uniques Items':[unique_items],\n",
    "    'Average Price':[average_purchase_price],\n",
    "    'Number of Purchases':[purchases_count],\n",
    "    'Total Revenue':[total_revenue]\n",
    "})"
   ]
  },
  {
   "cell_type": "code",
   "execution_count": 166,
   "id": "f6c12fb9",
   "metadata": {},
   "outputs": [
    {
     "data": {
      "text/html": [
       "<div>\n",
       "<style scoped>\n",
       "    .dataframe tbody tr th:only-of-type {\n",
       "        vertical-align: middle;\n",
       "    }\n",
       "\n",
       "    .dataframe tbody tr th {\n",
       "        vertical-align: top;\n",
       "    }\n",
       "\n",
       "    .dataframe thead th {\n",
       "        text-align: right;\n",
       "    }\n",
       "</style>\n",
       "<table border=\"1\" class=\"dataframe\">\n",
       "  <thead>\n",
       "    <tr style=\"text-align: right;\">\n",
       "      <th></th>\n",
       "      <th>Number of Uniques Items</th>\n",
       "      <th>Average Price</th>\n",
       "      <th>Number of Purchases</th>\n",
       "      <th>Total Revenue</th>\n",
       "    </tr>\n",
       "  </thead>\n",
       "  <tbody>\n",
       "    <tr>\n",
       "      <th>0</th>\n",
       "      <td>179</td>\n",
       "      <td>3.050987</td>\n",
       "      <td>780</td>\n",
       "      <td>2379.77</td>\n",
       "    </tr>\n",
       "  </tbody>\n",
       "</table>\n",
       "</div>"
      ],
      "text/plain": [
       "   Number of Uniques Items  Average Price  Number of Purchases  Total Revenue\n",
       "0                      179       3.050987                  780        2379.77"
      ]
     },
     "execution_count": 166,
     "metadata": {},
     "output_type": "execute_result"
    }
   ],
   "source": [
    "purchasing_analysis_df"
   ]
  },
  {
   "cell_type": "code",
   "execution_count": 167,
   "id": "b3aba266",
   "metadata": {},
   "outputs": [],
   "source": [
    "#clean purchasing analysis table\n",
    "purchasing_analysis_df['Average Price']=purchasing_analysis_df['Average Price'].map(\"${:,.2f}\".format)\n",
    "purchasing_analysis_df['Total Revenue']=purchasing_analysis_df['Total Revenue'].map(\"${:,.2f}\".format)"
   ]
  },
  {
   "cell_type": "code",
   "execution_count": 168,
   "id": "9e923229",
   "metadata": {},
   "outputs": [
    {
     "data": {
      "text/html": [
       "<div>\n",
       "<style scoped>\n",
       "    .dataframe tbody tr th:only-of-type {\n",
       "        vertical-align: middle;\n",
       "    }\n",
       "\n",
       "    .dataframe tbody tr th {\n",
       "        vertical-align: top;\n",
       "    }\n",
       "\n",
       "    .dataframe thead th {\n",
       "        text-align: right;\n",
       "    }\n",
       "</style>\n",
       "<table border=\"1\" class=\"dataframe\">\n",
       "  <thead>\n",
       "    <tr style=\"text-align: right;\">\n",
       "      <th></th>\n",
       "      <th>Number of Uniques Items</th>\n",
       "      <th>Average Price</th>\n",
       "      <th>Number of Purchases</th>\n",
       "      <th>Total Revenue</th>\n",
       "    </tr>\n",
       "  </thead>\n",
       "  <tbody>\n",
       "    <tr>\n",
       "      <th>0</th>\n",
       "      <td>179</td>\n",
       "      <td>$3.05</td>\n",
       "      <td>780</td>\n",
       "      <td>$2,379.77</td>\n",
       "    </tr>\n",
       "  </tbody>\n",
       "</table>\n",
       "</div>"
      ],
      "text/plain": [
       "   Number of Uniques Items Average Price  Number of Purchases Total Revenue\n",
       "0                      179         $3.05                  780     $2,379.77"
      ]
     },
     "execution_count": 168,
     "metadata": {},
     "output_type": "execute_result"
    }
   ],
   "source": [
    "purchasing_analysis_df"
   ]
  },
  {
   "cell_type": "code",
   "execution_count": 219,
   "id": "6881a86d",
   "metadata": {},
   "outputs": [
    {
     "data": {
      "text/html": [
       "<style  type=\"text/css\" >\n",
       "</style><table id=\"T_971f4db4_11cc_11ec_a124_9801a7a4a30b\" ><thead>    <tr>        <th class=\"blank level0\" ></th>        <th class=\"col_heading level0 col0\" >Total Count</th>        <th class=\"col_heading level0 col1\" >Percentage of Players</th>    </tr></thead><tbody>\n",
       "                <tr>\n",
       "                        <th id=\"T_971f4db4_11cc_11ec_a124_9801a7a4a30blevel0_row0\" class=\"row_heading level0 row0\" >Male</th>\n",
       "                        <td id=\"T_971f4db4_11cc_11ec_a124_9801a7a4a30brow0_col0\" class=\"data row0 col0\" >484</td>\n",
       "                        <td id=\"T_971f4db4_11cc_11ec_a124_9801a7a4a30brow0_col1\" class=\"data row0 col1\" >84.03%</td>\n",
       "            </tr>\n",
       "            <tr>\n",
       "                        <th id=\"T_971f4db4_11cc_11ec_a124_9801a7a4a30blevel0_row1\" class=\"row_heading level0 row1\" >Female</th>\n",
       "                        <td id=\"T_971f4db4_11cc_11ec_a124_9801a7a4a30brow1_col0\" class=\"data row1 col0\" >81</td>\n",
       "                        <td id=\"T_971f4db4_11cc_11ec_a124_9801a7a4a30brow1_col1\" class=\"data row1 col1\" >14.06%</td>\n",
       "            </tr>\n",
       "            <tr>\n",
       "                        <th id=\"T_971f4db4_11cc_11ec_a124_9801a7a4a30blevel0_row2\" class=\"row_heading level0 row2\" >Other / Non-Disclosed</th>\n",
       "                        <td id=\"T_971f4db4_11cc_11ec_a124_9801a7a4a30brow2_col0\" class=\"data row2 col0\" >11</td>\n",
       "                        <td id=\"T_971f4db4_11cc_11ec_a124_9801a7a4a30brow2_col1\" class=\"data row2 col1\" >1.91%</td>\n",
       "            </tr>\n",
       "    </tbody></table>"
      ],
      "text/plain": [
       "<pandas.io.formats.style.Styler at 0x7f87716234a8>"
      ]
     },
     "execution_count": 219,
     "metadata": {},
     "output_type": "execute_result"
    }
   ],
   "source": [
    "##GENDER DEMOGRAPHICS\n",
    "#group the data by gender to filter the values needed\n",
    "groupby_gender = purchase_data_df.groupby(\"Gender\")\n",
    "\n",
    "#calculate the count for each gender as well as the percentage \n",
    "gender_count = groupby_gender.nunique()[\"SN\"]\n",
    "gender_percentage = gender_count / players_count * 100\n",
    "\n",
    "#input calculated values in a data frame\n",
    "gender_demo = pd.DataFrame({\"Total Count\": gender_count,\"Percentage of Players\": gender_percentage})\n",
    "\n",
    "#clean up the data frame output\n",
    "gender_demo.index.name = None\n",
    "gender_demo.sort_values([\"Total Count\"], ascending = False).style.format({\"Percentage of Players\":\"{:.2f}%\"})"
   ]
  },
  {
   "cell_type": "code",
   "execution_count": 222,
   "id": "bbc90b5b",
   "metadata": {},
   "outputs": [
    {
     "data": {
      "text/plain": [
       "Gender\n",
       "Female                   113\n",
       "Male                     652\n",
       "Other / Non-Disclosed     15\n",
       "Name: Purchase ID, dtype: int64"
      ]
     },
     "execution_count": 222,
     "metadata": {},
     "output_type": "execute_result"
    }
   ],
   "source": [
    "##PURCHASING ANALYSIS (GENDER)\n",
    "#calculate the purchase count per gender (group by gender - gbg)\n",
    "gbg_purchase_count=groupby_gender['Purchase ID'].count()\n",
    "gbg_purchase_count"
   ]
  },
  {
   "cell_type": "code",
   "execution_count": 224,
   "id": "aabcbeda",
   "metadata": {},
   "outputs": [
    {
     "data": {
      "text/plain": [
       "Gender\n",
       "Female                   3.203009\n",
       "Male                     3.017853\n",
       "Other / Non-Disclosed    3.346000\n",
       "Name: Price, dtype: float64"
      ]
     },
     "execution_count": 224,
     "metadata": {},
     "output_type": "execute_result"
    }
   ],
   "source": [
    "#calculate average purchase price per gender\n",
    "gbg_avg_purchase_price=groupby_gender['Price'].mean()\n",
    "gbg_avg_purchase_price"
   ]
  },
  {
   "cell_type": "code",
   "execution_count": 226,
   "id": "4a7fe6a3",
   "metadata": {},
   "outputs": [
    {
     "data": {
      "text/plain": [
       "Gender\n",
       "Female                    361.94\n",
       "Male                     1967.64\n",
       "Other / Non-Disclosed      50.19\n",
       "Name: Price, dtype: float64"
      ]
     },
     "execution_count": 226,
     "metadata": {},
     "output_type": "execute_result"
    }
   ],
   "source": [
    "#calculate total purchase value per gender\n",
    "gbg_total_purchase_price=groupby_gender['Price'].sum()\n",
    "gbg_total_purchase_price"
   ]
  },
  {
   "cell_type": "code",
   "execution_count": 228,
   "id": "6f0be424",
   "metadata": {},
   "outputs": [
    {
     "data": {
      "text/plain": [
       "Gender\n",
       "Female                   4.468395\n",
       "Male                     4.065372\n",
       "Other / Non-Disclosed    4.562727\n",
       "dtype: float64"
      ]
     },
     "execution_count": 228,
     "metadata": {},
     "output_type": "execute_result"
    }
   ],
   "source": [
    "#calculate average total purchase price per person\n",
    "gbg_ind_purchase_price=gbg_total_purchase_price/gender_count\n",
    "gbg_ind_purchase_price"
   ]
  },
  {
   "cell_type": "code",
   "execution_count": 229,
   "id": "b6c1ea22",
   "metadata": {},
   "outputs": [
    {
     "data": {
      "text/html": [
       "<style  type=\"text/css\" >\n",
       "</style><table id=\"T_5505869c_11ce_11ec_b106_9801a7a4a30b\" ><thead>    <tr>        <th class=\"blank level0\" ></th>        <th class=\"col_heading level0 col0\" >Purchase Count</th>        <th class=\"col_heading level0 col1\" >Average Purchase Price</th>        <th class=\"col_heading level0 col2\" >Total Purchase Value</th>        <th class=\"col_heading level0 col3\" >Avg Total Purchase per Person</th>    </tr>    <tr>        <th class=\"index_name level0\" >Gender</th>        <th class=\"blank\" ></th>        <th class=\"blank\" ></th>        <th class=\"blank\" ></th>        <th class=\"blank\" ></th>    </tr></thead><tbody>\n",
       "                <tr>\n",
       "                        <th id=\"T_5505869c_11ce_11ec_b106_9801a7a4a30blevel0_row0\" class=\"row_heading level0 row0\" >Female</th>\n",
       "                        <td id=\"T_5505869c_11ce_11ec_b106_9801a7a4a30brow0_col0\" class=\"data row0 col0\" >113</td>\n",
       "                        <td id=\"T_5505869c_11ce_11ec_b106_9801a7a4a30brow0_col1\" class=\"data row0 col1\" >$3.20</td>\n",
       "                        <td id=\"T_5505869c_11ce_11ec_b106_9801a7a4a30brow0_col2\" class=\"data row0 col2\" >$361.94</td>\n",
       "                        <td id=\"T_5505869c_11ce_11ec_b106_9801a7a4a30brow0_col3\" class=\"data row0 col3\" >$4.47</td>\n",
       "            </tr>\n",
       "            <tr>\n",
       "                        <th id=\"T_5505869c_11ce_11ec_b106_9801a7a4a30blevel0_row1\" class=\"row_heading level0 row1\" >Male</th>\n",
       "                        <td id=\"T_5505869c_11ce_11ec_b106_9801a7a4a30brow1_col0\" class=\"data row1 col0\" >652</td>\n",
       "                        <td id=\"T_5505869c_11ce_11ec_b106_9801a7a4a30brow1_col1\" class=\"data row1 col1\" >$3.02</td>\n",
       "                        <td id=\"T_5505869c_11ce_11ec_b106_9801a7a4a30brow1_col2\" class=\"data row1 col2\" >$1,967.64</td>\n",
       "                        <td id=\"T_5505869c_11ce_11ec_b106_9801a7a4a30brow1_col3\" class=\"data row1 col3\" >$4.07</td>\n",
       "            </tr>\n",
       "            <tr>\n",
       "                        <th id=\"T_5505869c_11ce_11ec_b106_9801a7a4a30blevel0_row2\" class=\"row_heading level0 row2\" >Other / Non-Disclosed</th>\n",
       "                        <td id=\"T_5505869c_11ce_11ec_b106_9801a7a4a30brow2_col0\" class=\"data row2 col0\" >15</td>\n",
       "                        <td id=\"T_5505869c_11ce_11ec_b106_9801a7a4a30brow2_col1\" class=\"data row2 col1\" >$3.35</td>\n",
       "                        <td id=\"T_5505869c_11ce_11ec_b106_9801a7a4a30brow2_col2\" class=\"data row2 col2\" >$50.19</td>\n",
       "                        <td id=\"T_5505869c_11ce_11ec_b106_9801a7a4a30brow2_col3\" class=\"data row2 col3\" >$4.56</td>\n",
       "            </tr>\n",
       "    </tbody></table>"
      ],
      "text/plain": [
       "<pandas.io.formats.style.Styler at 0x7f87724d4a20>"
      ]
     },
     "execution_count": 229,
     "metadata": {},
     "output_type": "execute_result"
    }
   ],
   "source": [
    "#input calculated values in a data frame\n",
    "gender_demo_analysis = pd.DataFrame({\n",
    "    'Purchase Count':gbg_purchase_count,\n",
    "    'Average Purchase Price':gbg_avg_purchase_price,\n",
    "    'Total Purchase Value':gbg_total_purchase_price,\n",
    "    'Avg Total Purchase per Person':gbg_ind_purchase_price\n",
    "})\n",
    "\n",
    "#clean up the data frame output\n",
    "gender_demo_analysis.index.name = 'Gender'\n",
    "gender_demo_analysis.style.format({\n",
    "    'Average Purchase Price':\"${:,.2f}\",\n",
    "    'Total Purchase Value':\"${:,.2f}\",\n",
    "    'Avg Total Purchase per Person':\"${:,.2f}\"\n",
    "})"
   ]
  },
  {
   "cell_type": "code",
   "execution_count": 230,
   "id": "cd83c950",
   "metadata": {},
   "outputs": [
    {
     "name": "stdout",
     "output_type": "stream",
     "text": [
      "45\n",
      "7\n"
     ]
    }
   ],
   "source": [
    "##AGE DEMOGRAPHICS\n",
    "print(purchase_data_df['Age'].max())\n",
    "print(purchase_data_df['Age'].min())"
   ]
  },
  {
   "cell_type": "code",
   "execution_count": 235,
   "id": "d84dba91",
   "metadata": {},
   "outputs": [],
   "source": [
    "# Create bins in which to place values based upon TED Talk views\n",
    "age_bins = [0,9,14,19,24,29,34,39,46]\n",
    "\n",
    "# Create labels for these bins (8)\n",
    "group_labels = [\"<10\", \"10-14\", \"15-19\", \"20-24\", \"25-29\", \"30-34\",\n",
    "                \"35-39\", \"40+\"]"
   ]
  },
  {
   "cell_type": "code",
   "execution_count": 239,
   "id": "f3053350",
   "metadata": {},
   "outputs": [
    {
     "data": {
      "text/html": [
       "<div>\n",
       "<style scoped>\n",
       "    .dataframe tbody tr th:only-of-type {\n",
       "        vertical-align: middle;\n",
       "    }\n",
       "\n",
       "    .dataframe tbody tr th {\n",
       "        vertical-align: top;\n",
       "    }\n",
       "\n",
       "    .dataframe thead th {\n",
       "        text-align: right;\n",
       "    }\n",
       "</style>\n",
       "<table border=\"1\" class=\"dataframe\">\n",
       "  <thead>\n",
       "    <tr style=\"text-align: right;\">\n",
       "      <th></th>\n",
       "      <th>Purchase ID</th>\n",
       "      <th>SN</th>\n",
       "      <th>Age</th>\n",
       "      <th>Gender</th>\n",
       "      <th>Item ID</th>\n",
       "      <th>Item Name</th>\n",
       "      <th>Price</th>\n",
       "      <th>Age Group</th>\n",
       "    </tr>\n",
       "  </thead>\n",
       "  <tbody>\n",
       "    <tr>\n",
       "      <th>0</th>\n",
       "      <td>0</td>\n",
       "      <td>Lisim78</td>\n",
       "      <td>20</td>\n",
       "      <td>Male</td>\n",
       "      <td>108</td>\n",
       "      <td>Extraction, Quickblade Of Trembling Hands</td>\n",
       "      <td>3.53</td>\n",
       "      <td>20-24</td>\n",
       "    </tr>\n",
       "    <tr>\n",
       "      <th>1</th>\n",
       "      <td>1</td>\n",
       "      <td>Lisovynya38</td>\n",
       "      <td>40</td>\n",
       "      <td>Male</td>\n",
       "      <td>143</td>\n",
       "      <td>Frenzied Scimitar</td>\n",
       "      <td>1.56</td>\n",
       "      <td>40+</td>\n",
       "    </tr>\n",
       "    <tr>\n",
       "      <th>2</th>\n",
       "      <td>2</td>\n",
       "      <td>Ithergue48</td>\n",
       "      <td>24</td>\n",
       "      <td>Male</td>\n",
       "      <td>92</td>\n",
       "      <td>Final Critic</td>\n",
       "      <td>4.88</td>\n",
       "      <td>20-24</td>\n",
       "    </tr>\n",
       "    <tr>\n",
       "      <th>3</th>\n",
       "      <td>3</td>\n",
       "      <td>Chamassasya86</td>\n",
       "      <td>24</td>\n",
       "      <td>Male</td>\n",
       "      <td>100</td>\n",
       "      <td>Blindscythe</td>\n",
       "      <td>3.27</td>\n",
       "      <td>20-24</td>\n",
       "    </tr>\n",
       "    <tr>\n",
       "      <th>4</th>\n",
       "      <td>4</td>\n",
       "      <td>Iskosia90</td>\n",
       "      <td>23</td>\n",
       "      <td>Male</td>\n",
       "      <td>131</td>\n",
       "      <td>Fury</td>\n",
       "      <td>1.44</td>\n",
       "      <td>20-24</td>\n",
       "    </tr>\n",
       "    <tr>\n",
       "      <th>...</th>\n",
       "      <td>...</td>\n",
       "      <td>...</td>\n",
       "      <td>...</td>\n",
       "      <td>...</td>\n",
       "      <td>...</td>\n",
       "      <td>...</td>\n",
       "      <td>...</td>\n",
       "      <td>...</td>\n",
       "    </tr>\n",
       "    <tr>\n",
       "      <th>775</th>\n",
       "      <td>775</td>\n",
       "      <td>Aethedru70</td>\n",
       "      <td>21</td>\n",
       "      <td>Female</td>\n",
       "      <td>60</td>\n",
       "      <td>Wolf</td>\n",
       "      <td>3.54</td>\n",
       "      <td>20-24</td>\n",
       "    </tr>\n",
       "    <tr>\n",
       "      <th>776</th>\n",
       "      <td>776</td>\n",
       "      <td>Iral74</td>\n",
       "      <td>21</td>\n",
       "      <td>Male</td>\n",
       "      <td>164</td>\n",
       "      <td>Exiled Doomblade</td>\n",
       "      <td>1.63</td>\n",
       "      <td>20-24</td>\n",
       "    </tr>\n",
       "    <tr>\n",
       "      <th>777</th>\n",
       "      <td>777</td>\n",
       "      <td>Yathecal72</td>\n",
       "      <td>20</td>\n",
       "      <td>Male</td>\n",
       "      <td>67</td>\n",
       "      <td>Celeste, Incarnation of the Corrupted</td>\n",
       "      <td>3.46</td>\n",
       "      <td>20-24</td>\n",
       "    </tr>\n",
       "    <tr>\n",
       "      <th>778</th>\n",
       "      <td>778</td>\n",
       "      <td>Sisur91</td>\n",
       "      <td>7</td>\n",
       "      <td>Male</td>\n",
       "      <td>92</td>\n",
       "      <td>Final Critic</td>\n",
       "      <td>4.19</td>\n",
       "      <td>&lt;10</td>\n",
       "    </tr>\n",
       "    <tr>\n",
       "      <th>779</th>\n",
       "      <td>779</td>\n",
       "      <td>Ennrian78</td>\n",
       "      <td>24</td>\n",
       "      <td>Male</td>\n",
       "      <td>50</td>\n",
       "      <td>Dawn</td>\n",
       "      <td>4.60</td>\n",
       "      <td>20-24</td>\n",
       "    </tr>\n",
       "  </tbody>\n",
       "</table>\n",
       "<p>780 rows × 8 columns</p>\n",
       "</div>"
      ],
      "text/plain": [
       "     Purchase ID             SN  Age  Gender  Item ID  \\\n",
       "0              0        Lisim78   20    Male      108   \n",
       "1              1    Lisovynya38   40    Male      143   \n",
       "2              2     Ithergue48   24    Male       92   \n",
       "3              3  Chamassasya86   24    Male      100   \n",
       "4              4      Iskosia90   23    Male      131   \n",
       "..           ...            ...  ...     ...      ...   \n",
       "775          775     Aethedru70   21  Female       60   \n",
       "776          776         Iral74   21    Male      164   \n",
       "777          777     Yathecal72   20    Male       67   \n",
       "778          778        Sisur91    7    Male       92   \n",
       "779          779      Ennrian78   24    Male       50   \n",
       "\n",
       "                                     Item Name  Price Age Group  \n",
       "0    Extraction, Quickblade Of Trembling Hands   3.53     20-24  \n",
       "1                            Frenzied Scimitar   1.56       40+  \n",
       "2                                 Final Critic   4.88     20-24  \n",
       "3                                  Blindscythe   3.27     20-24  \n",
       "4                                         Fury   1.44     20-24  \n",
       "..                                         ...    ...       ...  \n",
       "775                                       Wolf   3.54     20-24  \n",
       "776                           Exiled Doomblade   1.63     20-24  \n",
       "777      Celeste, Incarnation of the Corrupted   3.46     20-24  \n",
       "778                               Final Critic   4.19       <10  \n",
       "779                                       Dawn   4.60     20-24  \n",
       "\n",
       "[780 rows x 8 columns]"
      ]
     },
     "execution_count": 239,
     "metadata": {},
     "output_type": "execute_result"
    }
   ],
   "source": [
    "# Slice the data and place it into bins\n",
    "purchase_data_df[\"Age Group\"] = pd.cut(purchase_data_df[\"Age\"],age_bins, labels=group_labels)\n",
    "purchase_data_df"
   ]
  },
  {
   "cell_type": "code",
   "execution_count": 241,
   "id": "7da6473d",
   "metadata": {},
   "outputs": [
    {
     "data": {
      "text/html": [
       "<style  type=\"text/css\" >\n",
       "</style><table id=\"T_edc87c1a_129e_11ec_adc6_9801a7a4a30b\" ><thead>    <tr>        <th class=\"blank level0\" ></th>        <th class=\"col_heading level0 col0\" >Total Count</th>        <th class=\"col_heading level0 col1\" >Percentage of Players</th>    </tr></thead><tbody>\n",
       "                <tr>\n",
       "                        <th id=\"T_edc87c1a_129e_11ec_adc6_9801a7a4a30blevel0_row0\" class=\"row_heading level0 row0\" ><10</th>\n",
       "                        <td id=\"T_edc87c1a_129e_11ec_adc6_9801a7a4a30brow0_col0\" class=\"data row0 col0\" >17</td>\n",
       "                        <td id=\"T_edc87c1a_129e_11ec_adc6_9801a7a4a30brow0_col1\" class=\"data row0 col1\" >2.95%</td>\n",
       "            </tr>\n",
       "            <tr>\n",
       "                        <th id=\"T_edc87c1a_129e_11ec_adc6_9801a7a4a30blevel0_row1\" class=\"row_heading level0 row1\" >10-14</th>\n",
       "                        <td id=\"T_edc87c1a_129e_11ec_adc6_9801a7a4a30brow1_col0\" class=\"data row1 col0\" >22</td>\n",
       "                        <td id=\"T_edc87c1a_129e_11ec_adc6_9801a7a4a30brow1_col1\" class=\"data row1 col1\" >3.82%</td>\n",
       "            </tr>\n",
       "            <tr>\n",
       "                        <th id=\"T_edc87c1a_129e_11ec_adc6_9801a7a4a30blevel0_row2\" class=\"row_heading level0 row2\" >15-19</th>\n",
       "                        <td id=\"T_edc87c1a_129e_11ec_adc6_9801a7a4a30brow2_col0\" class=\"data row2 col0\" >107</td>\n",
       "                        <td id=\"T_edc87c1a_129e_11ec_adc6_9801a7a4a30brow2_col1\" class=\"data row2 col1\" >18.58%</td>\n",
       "            </tr>\n",
       "            <tr>\n",
       "                        <th id=\"T_edc87c1a_129e_11ec_adc6_9801a7a4a30blevel0_row3\" class=\"row_heading level0 row3\" >20-24</th>\n",
       "                        <td id=\"T_edc87c1a_129e_11ec_adc6_9801a7a4a30brow3_col0\" class=\"data row3 col0\" >258</td>\n",
       "                        <td id=\"T_edc87c1a_129e_11ec_adc6_9801a7a4a30brow3_col1\" class=\"data row3 col1\" >44.79%</td>\n",
       "            </tr>\n",
       "            <tr>\n",
       "                        <th id=\"T_edc87c1a_129e_11ec_adc6_9801a7a4a30blevel0_row4\" class=\"row_heading level0 row4\" >25-29</th>\n",
       "                        <td id=\"T_edc87c1a_129e_11ec_adc6_9801a7a4a30brow4_col0\" class=\"data row4 col0\" >77</td>\n",
       "                        <td id=\"T_edc87c1a_129e_11ec_adc6_9801a7a4a30brow4_col1\" class=\"data row4 col1\" >13.37%</td>\n",
       "            </tr>\n",
       "            <tr>\n",
       "                        <th id=\"T_edc87c1a_129e_11ec_adc6_9801a7a4a30blevel0_row5\" class=\"row_heading level0 row5\" >30-34</th>\n",
       "                        <td id=\"T_edc87c1a_129e_11ec_adc6_9801a7a4a30brow5_col0\" class=\"data row5 col0\" >52</td>\n",
       "                        <td id=\"T_edc87c1a_129e_11ec_adc6_9801a7a4a30brow5_col1\" class=\"data row5 col1\" >9.03%</td>\n",
       "            </tr>\n",
       "            <tr>\n",
       "                        <th id=\"T_edc87c1a_129e_11ec_adc6_9801a7a4a30blevel0_row6\" class=\"row_heading level0 row6\" >35-39</th>\n",
       "                        <td id=\"T_edc87c1a_129e_11ec_adc6_9801a7a4a30brow6_col0\" class=\"data row6 col0\" >31</td>\n",
       "                        <td id=\"T_edc87c1a_129e_11ec_adc6_9801a7a4a30brow6_col1\" class=\"data row6 col1\" >5.38%</td>\n",
       "            </tr>\n",
       "            <tr>\n",
       "                        <th id=\"T_edc87c1a_129e_11ec_adc6_9801a7a4a30blevel0_row7\" class=\"row_heading level0 row7\" >40+</th>\n",
       "                        <td id=\"T_edc87c1a_129e_11ec_adc6_9801a7a4a30brow7_col0\" class=\"data row7 col0\" >12</td>\n",
       "                        <td id=\"T_edc87c1a_129e_11ec_adc6_9801a7a4a30brow7_col1\" class=\"data row7 col1\" >2.08%</td>\n",
       "            </tr>\n",
       "    </tbody></table>"
      ],
      "text/plain": [
       "<pandas.io.formats.style.Styler at 0x7f8772720cf8>"
      ]
     },
     "execution_count": 241,
     "metadata": {},
     "output_type": "execute_result"
    }
   ],
   "source": [
    "#Group data by the Age Group Bins created\n",
    "age_grouped = purchase_data_df.groupby(\"Age Group\")\n",
    "\n",
    "#Calculate the total count by age as well as the percentage\n",
    "total_by_age = age_grouped[\"SN\"].nunique()\n",
    "percentage_by_age = (total_by_age/players_count) * 100\n",
    "\n",
    "#output the results as a data frame with proper formatting \n",
    "age_demographics = pd.DataFrame({\"Total Count\": total_by_age, \"Percentage of Players\": percentage_by_age})\n",
    "age_demographics.index.name = None\n",
    "age_demographics.style.format({\"Percentage of Players\":\"{:,.2f}%\"})"
   ]
  },
  {
   "cell_type": "code",
   "execution_count": 244,
   "id": "c4e1e001",
   "metadata": {},
   "outputs": [
    {
     "data": {
      "text/plain": [
       "<10       23\n",
       "10-14     28\n",
       "15-19    136\n",
       "20-24    365\n",
       "25-29    101\n",
       "30-34     73\n",
       "35-39     41\n",
       "40+       13\n",
       "Name: Purchase ID, dtype: int64"
      ]
     },
     "execution_count": 244,
     "metadata": {},
     "output_type": "execute_result"
    }
   ],
   "source": [
    "##PURCHASING ANALYSIS\n",
    "#Calculate the purchase count by age (grouped by age = gba)\n",
    "gba_purchase_count=age_grouped['Purchase ID'].count()\n",
    "gba_purchase_count"
   ]
  },
  {
   "cell_type": "code",
   "execution_count": 246,
   "id": "ed6246e3",
   "metadata": {},
   "outputs": [
    {
     "data": {
      "text/plain": [
       "<10      3.353478\n",
       "10-14    2.956429\n",
       "15-19    3.035956\n",
       "20-24    3.052219\n",
       "25-29    2.900990\n",
       "30-34    2.931507\n",
       "35-39    3.601707\n",
       "40+      2.941538\n",
       "Name: Price, dtype: float64"
      ]
     },
     "execution_count": 246,
     "metadata": {},
     "output_type": "execute_result"
    }
   ],
   "source": [
    "#Calculate the average purchase price gba \n",
    "gba_avg_purchase_price=age_grouped['Price'].mean()\n",
    "gba_avg_purchase_price"
   ]
  },
  {
   "cell_type": "code",
   "execution_count": 248,
   "id": "213ae111",
   "metadata": {},
   "outputs": [
    {
     "data": {
      "text/plain": [
       "<10        77.13\n",
       "10-14      82.78\n",
       "15-19     412.89\n",
       "20-24    1114.06\n",
       "25-29     293.00\n",
       "30-34     214.00\n",
       "35-39     147.67\n",
       "40+        38.24\n",
       "Name: Price, dtype: float64"
      ]
     },
     "execution_count": 248,
     "metadata": {},
     "output_type": "execute_result"
    }
   ],
   "source": [
    "#Calculate the total purchases by age\n",
    "gba_total_purchase=age_grouped['Price'].sum()\n",
    "gba_total_purchase"
   ]
  },
  {
   "cell_type": "code",
   "execution_count": 249,
   "id": "7f0fa85f",
   "metadata": {},
   "outputs": [
    {
     "data": {
      "text/plain": [
       "<10      4.537059\n",
       "10-14    3.762727\n",
       "15-19    3.858785\n",
       "20-24    4.318062\n",
       "25-29    3.805195\n",
       "30-34    4.115385\n",
       "35-39    4.763548\n",
       "40+      3.186667\n",
       "dtype: float64"
      ]
     },
     "execution_count": 249,
     "metadata": {},
     "output_type": "execute_result"
    }
   ],
   "source": [
    "#Calculate the individual purchase price by age \n",
    "gba_ind_purchase_price=gba_total_purchase/total_by_age\n",
    "gba_ind_purchase_price"
   ]
  },
  {
   "cell_type": "code",
   "execution_count": 251,
   "id": "6245bd62",
   "metadata": {},
   "outputs": [],
   "source": [
    "##TOP SPENDERS\n",
    "#group the data by SN to filter the values needed\n",
    "groupby_spender = purchase_data_df.groupby(\"SN\")"
   ]
  },
  {
   "cell_type": "code",
   "execution_count": 253,
   "id": "58d9afc8",
   "metadata": {},
   "outputs": [
    {
     "data": {
      "text/plain": [
       "SN\n",
       "Adairialis76     1\n",
       "Adastirin33      1\n",
       "Aeda94           1\n",
       "Aela59           1\n",
       "Aelaria33        1\n",
       "                ..\n",
       "Yathecal82       3\n",
       "Yathedeu43       2\n",
       "Yoishirrala98    1\n",
       "Zhisrisu83       2\n",
       "Zontibe81        3\n",
       "Name: Purchase ID, Length: 576, dtype: int64"
      ]
     },
     "execution_count": 253,
     "metadata": {},
     "output_type": "execute_result"
    }
   ],
   "source": [
    "#calculate the purchase count per SN(group by spender - gbs)\n",
    "gbs_purchase_count=groupby_spender['Purchase ID'].count()\n",
    "gbs_purchase_count"
   ]
  },
  {
   "cell_type": "code",
   "execution_count": 254,
   "id": "2d302f88",
   "metadata": {},
   "outputs": [
    {
     "data": {
      "text/plain": [
       "SN\n",
       "Adairialis76     2.280000\n",
       "Adastirin33      4.480000\n",
       "Aeda94           4.910000\n",
       "Aela59           4.320000\n",
       "Aelaria33        1.790000\n",
       "                   ...   \n",
       "Yathecal82       2.073333\n",
       "Yathedeu43       3.010000\n",
       "Yoishirrala98    4.580000\n",
       "Zhisrisu83       3.945000\n",
       "Zontibe81        2.676667\n",
       "Name: Price, Length: 576, dtype: float64"
      ]
     },
     "execution_count": 254,
     "metadata": {},
     "output_type": "execute_result"
    }
   ],
   "source": [
    "#calculate average purchase price per SN\n",
    "gbs_avg_purchase_price=groupby_spender['Price'].mean()\n",
    "gbs_avg_purchase_price"
   ]
  },
  {
   "cell_type": "code",
   "execution_count": 255,
   "id": "b960ff8d",
   "metadata": {},
   "outputs": [
    {
     "data": {
      "text/plain": [
       "SN\n",
       "Adairialis76     2.28\n",
       "Adastirin33      4.48\n",
       "Aeda94           4.91\n",
       "Aela59           4.32\n",
       "Aelaria33        1.79\n",
       "                 ... \n",
       "Yathecal82       6.22\n",
       "Yathedeu43       6.02\n",
       "Yoishirrala98    4.58\n",
       "Zhisrisu83       7.89\n",
       "Zontibe81        8.03\n",
       "Name: Price, Length: 576, dtype: float64"
      ]
     },
     "execution_count": 255,
     "metadata": {},
     "output_type": "execute_result"
    }
   ],
   "source": [
    "#calculate total purchase value per SN\n",
    "gbs_total_purchase_price=groupby_spender['Price'].sum()\n",
    "gbs_total_purchase_price"
   ]
  },
  {
   "cell_type": "code",
   "execution_count": 261,
   "id": "7bbb2f20",
   "metadata": {},
   "outputs": [
    {
     "data": {
      "text/html": [
       "<style  type=\"text/css\" >\n",
       "</style><table id=\"T_5ba1c4fa_12a2_11ec_806e_9801a7a4a30b\" ><thead>    <tr>        <th class=\"blank level0\" ></th>        <th class=\"col_heading level0 col0\" >Purchase Count</th>        <th class=\"col_heading level0 col1\" >Average Purchase Price</th>        <th class=\"col_heading level0 col2\" >Total Purchase Value</th>    </tr>    <tr>        <th class=\"index_name level0\" >SN</th>        <th class=\"blank\" ></th>        <th class=\"blank\" ></th>        <th class=\"blank\" ></th>    </tr></thead><tbody>\n",
       "                <tr>\n",
       "                        <th id=\"T_5ba1c4fa_12a2_11ec_806e_9801a7a4a30blevel0_row0\" class=\"row_heading level0 row0\" >Lisosia93</th>\n",
       "                        <td id=\"T_5ba1c4fa_12a2_11ec_806e_9801a7a4a30brow0_col0\" class=\"data row0 col0\" >5</td>\n",
       "                        <td id=\"T_5ba1c4fa_12a2_11ec_806e_9801a7a4a30brow0_col1\" class=\"data row0 col1\" >$3.79</td>\n",
       "                        <td id=\"T_5ba1c4fa_12a2_11ec_806e_9801a7a4a30brow0_col2\" class=\"data row0 col2\" >$18.96</td>\n",
       "            </tr>\n",
       "            <tr>\n",
       "                        <th id=\"T_5ba1c4fa_12a2_11ec_806e_9801a7a4a30blevel0_row1\" class=\"row_heading level0 row1\" >Idastidru52</th>\n",
       "                        <td id=\"T_5ba1c4fa_12a2_11ec_806e_9801a7a4a30brow1_col0\" class=\"data row1 col0\" >4</td>\n",
       "                        <td id=\"T_5ba1c4fa_12a2_11ec_806e_9801a7a4a30brow1_col1\" class=\"data row1 col1\" >$3.86</td>\n",
       "                        <td id=\"T_5ba1c4fa_12a2_11ec_806e_9801a7a4a30brow1_col2\" class=\"data row1 col2\" >$15.45</td>\n",
       "            </tr>\n",
       "            <tr>\n",
       "                        <th id=\"T_5ba1c4fa_12a2_11ec_806e_9801a7a4a30blevel0_row2\" class=\"row_heading level0 row2\" >Chamjask73</th>\n",
       "                        <td id=\"T_5ba1c4fa_12a2_11ec_806e_9801a7a4a30brow2_col0\" class=\"data row2 col0\" >3</td>\n",
       "                        <td id=\"T_5ba1c4fa_12a2_11ec_806e_9801a7a4a30brow2_col1\" class=\"data row2 col1\" >$4.61</td>\n",
       "                        <td id=\"T_5ba1c4fa_12a2_11ec_806e_9801a7a4a30brow2_col2\" class=\"data row2 col2\" >$13.83</td>\n",
       "            </tr>\n",
       "            <tr>\n",
       "                        <th id=\"T_5ba1c4fa_12a2_11ec_806e_9801a7a4a30blevel0_row3\" class=\"row_heading level0 row3\" >Iral74</th>\n",
       "                        <td id=\"T_5ba1c4fa_12a2_11ec_806e_9801a7a4a30brow3_col0\" class=\"data row3 col0\" >4</td>\n",
       "                        <td id=\"T_5ba1c4fa_12a2_11ec_806e_9801a7a4a30brow3_col1\" class=\"data row3 col1\" >$3.40</td>\n",
       "                        <td id=\"T_5ba1c4fa_12a2_11ec_806e_9801a7a4a30brow3_col2\" class=\"data row3 col2\" >$13.62</td>\n",
       "            </tr>\n",
       "            <tr>\n",
       "                        <th id=\"T_5ba1c4fa_12a2_11ec_806e_9801a7a4a30blevel0_row4\" class=\"row_heading level0 row4\" >Iskadarya95</th>\n",
       "                        <td id=\"T_5ba1c4fa_12a2_11ec_806e_9801a7a4a30brow4_col0\" class=\"data row4 col0\" >3</td>\n",
       "                        <td id=\"T_5ba1c4fa_12a2_11ec_806e_9801a7a4a30brow4_col1\" class=\"data row4 col1\" >$4.37</td>\n",
       "                        <td id=\"T_5ba1c4fa_12a2_11ec_806e_9801a7a4a30brow4_col2\" class=\"data row4 col2\" >$13.10</td>\n",
       "            </tr>\n",
       "    </tbody></table>"
      ],
      "text/plain": [
       "<pandas.io.formats.style.Styler at 0x7f877273c7f0>"
      ]
     },
     "execution_count": 261,
     "metadata": {},
     "output_type": "execute_result"
    }
   ],
   "source": [
    "#input calculated values in a data frame\n",
    "spender_stats_analysis = pd.DataFrame({\n",
    "    'Purchase Count':gbs_purchase_count,\n",
    "    'Average Purchase Price':gbs_avg_purchase_price,\n",
    "    'Total Purchase Value':gbs_total_purchase_price\n",
    "})\n",
    "\n",
    "#Sort the values from highest total purchase value to lowest\n",
    "top_spenders = spender_stats_analysis.sort_values([\"Total Purchase Value\"], ascending=False).head()\n",
    "\n",
    "#Clean up the data frame output format\n",
    "top_spenders.index.name = 'SN'\n",
    "top_spenders.style.format({\n",
    "    'Average Purchase Price':\"${:,.2f}\",\n",
    "    'Total Purchase Value':\"${:,.2f}\"\n",
    "})"
   ]
  },
  {
   "cell_type": "code",
   "execution_count": 265,
   "id": "c8266c1a",
   "metadata": {},
   "outputs": [],
   "source": [
    "##MOST POPULAR ITEMS\n",
    "#Retrieve the Item ID, Item Name, and Item Price columns\n",
    "items=purchase_data_df[['Item ID','Item Name','Price']]\n",
    "\n",
    "#group the data by Item ID and Item Name\n",
    "groupby_items=items.groupby(['Item ID','Item Name'])"
   ]
  },
  {
   "cell_type": "code",
   "execution_count": 268,
   "id": "f2e41761",
   "metadata": {},
   "outputs": [
    {
     "data": {
      "text/plain": [
       "Item ID  Item Name                                   \n",
       "0        Splinter                                         4\n",
       "1        Crucifer                                         4\n",
       "2        Verdict                                          6\n",
       "3        Phantomlight                                     6\n",
       "4        Bloodlord's Fetish                               5\n",
       "                                                         ..\n",
       "178      Oathbreaker, Last Hope of the Breaking Storm    12\n",
       "179      Wolf, Promise of the Moonwalker                  6\n",
       "181      Reaper's Toll                                    5\n",
       "182      Toothpick                                        3\n",
       "183      Dragon's Greatsword                              3\n",
       "Name: Price, Length: 179, dtype: int64"
      ]
     },
     "execution_count": 268,
     "metadata": {},
     "output_type": "execute_result"
    }
   ],
   "source": [
    "#urchase count, average item price, and total purchase value\n",
    "#calculate the purchase count per items (group by item - gbi)\n",
    "gbi_purchase_count=groupby_items['Price'].count()\n",
    "gbi_purchase_count"
   ]
  },
  {
   "cell_type": "code",
   "execution_count": 271,
   "id": "e0ff8eb5",
   "metadata": {},
   "outputs": [
    {
     "data": {
      "text/plain": [
       "Item ID  Item Name                                   \n",
       "0        Splinter                                        1.2800\n",
       "1        Crucifer                                        2.9425\n",
       "2        Verdict                                         2.4800\n",
       "3        Phantomlight                                    2.4900\n",
       "4        Bloodlord's Fetish                              1.7000\n",
       "                                                          ...  \n",
       "178      Oathbreaker, Last Hope of the Breaking Storm    4.2300\n",
       "179      Wolf, Promise of the Moonwalker                 4.4800\n",
       "181      Reaper's Toll                                   1.6600\n",
       "182      Toothpick                                       4.0300\n",
       "183      Dragon's Greatsword                             1.0900\n",
       "Name: Price, Length: 179, dtype: float64"
      ]
     },
     "execution_count": 271,
     "metadata": {},
     "output_type": "execute_result"
    }
   ],
   "source": [
    "#calculate the average item price\n",
    "gbi_avg_purchase_price=groupby_items['Price'].mean()\n",
    "gbi_avg_purchase_price"
   ]
  },
  {
   "cell_type": "code",
   "execution_count": 272,
   "id": "1d0da208",
   "metadata": {},
   "outputs": [
    {
     "data": {
      "text/plain": [
       "Item ID  Item Name                                   \n",
       "0        Splinter                                         5.12\n",
       "1        Crucifer                                        11.77\n",
       "2        Verdict                                         14.88\n",
       "3        Phantomlight                                    14.94\n",
       "4        Bloodlord's Fetish                               8.50\n",
       "                                                         ...  \n",
       "178      Oathbreaker, Last Hope of the Breaking Storm    50.76\n",
       "179      Wolf, Promise of the Moonwalker                 26.88\n",
       "181      Reaper's Toll                                    8.30\n",
       "182      Toothpick                                       12.09\n",
       "183      Dragon's Greatsword                              3.27\n",
       "Name: Price, Length: 179, dtype: float64"
      ]
     },
     "execution_count": 272,
     "metadata": {},
     "output_type": "execute_result"
    }
   ],
   "source": [
    "#calculate the total purchase value\n",
    "gbi_total_purchase_value=groupby_items['Price'].sum()\n",
    "gbi_total_purchase_value"
   ]
  },
  {
   "cell_type": "code",
   "execution_count": 274,
   "id": "2ccaea49",
   "metadata": {},
   "outputs": [
    {
     "data": {
      "text/html": [
       "<style  type=\"text/css\" >\n",
       "</style><table id=\"T_4152f2f4_12a4_11ec_bbd2_9801a7a4a30b\" ><thead>    <tr>        <th class=\"blank\" ></th>        <th class=\"blank level0\" ></th>        <th class=\"col_heading level0 col0\" >Purchase Count</th>        <th class=\"col_heading level0 col1\" >Item Price</th>        <th class=\"col_heading level0 col2\" >Total Purchase Value</th>    </tr>    <tr>        <th class=\"index_name level0\" >Item ID</th>        <th class=\"index_name level1\" >Item Name</th>        <th class=\"blank\" ></th>        <th class=\"blank\" ></th>        <th class=\"blank\" ></th>    </tr></thead><tbody>\n",
       "                <tr>\n",
       "                        <th id=\"T_4152f2f4_12a4_11ec_bbd2_9801a7a4a30blevel0_row0\" class=\"row_heading level0 row0\" >92</th>\n",
       "                        <th id=\"T_4152f2f4_12a4_11ec_bbd2_9801a7a4a30blevel1_row0\" class=\"row_heading level1 row0\" >Final Critic</th>\n",
       "                        <td id=\"T_4152f2f4_12a4_11ec_bbd2_9801a7a4a30brow0_col0\" class=\"data row0 col0\" >13</td>\n",
       "                        <td id=\"T_4152f2f4_12a4_11ec_bbd2_9801a7a4a30brow0_col1\" class=\"data row0 col1\" >$4.61</td>\n",
       "                        <td id=\"T_4152f2f4_12a4_11ec_bbd2_9801a7a4a30brow0_col2\" class=\"data row0 col2\" >$59.99</td>\n",
       "            </tr>\n",
       "            <tr>\n",
       "                        <th id=\"T_4152f2f4_12a4_11ec_bbd2_9801a7a4a30blevel0_row1\" class=\"row_heading level0 row1\" >178</th>\n",
       "                        <th id=\"T_4152f2f4_12a4_11ec_bbd2_9801a7a4a30blevel1_row1\" class=\"row_heading level1 row1\" >Oathbreaker, Last Hope of the Breaking Storm</th>\n",
       "                        <td id=\"T_4152f2f4_12a4_11ec_bbd2_9801a7a4a30brow1_col0\" class=\"data row1 col0\" >12</td>\n",
       "                        <td id=\"T_4152f2f4_12a4_11ec_bbd2_9801a7a4a30brow1_col1\" class=\"data row1 col1\" >$4.23</td>\n",
       "                        <td id=\"T_4152f2f4_12a4_11ec_bbd2_9801a7a4a30brow1_col2\" class=\"data row1 col2\" >$50.76</td>\n",
       "            </tr>\n",
       "            <tr>\n",
       "                        <th id=\"T_4152f2f4_12a4_11ec_bbd2_9801a7a4a30blevel0_row2\" class=\"row_heading level0 row2\" >145</th>\n",
       "                        <th id=\"T_4152f2f4_12a4_11ec_bbd2_9801a7a4a30blevel1_row2\" class=\"row_heading level1 row2\" >Fiery Glass Crusader</th>\n",
       "                        <td id=\"T_4152f2f4_12a4_11ec_bbd2_9801a7a4a30brow2_col0\" class=\"data row2 col0\" >9</td>\n",
       "                        <td id=\"T_4152f2f4_12a4_11ec_bbd2_9801a7a4a30brow2_col1\" class=\"data row2 col1\" >$4.58</td>\n",
       "                        <td id=\"T_4152f2f4_12a4_11ec_bbd2_9801a7a4a30brow2_col2\" class=\"data row2 col2\" >$41.22</td>\n",
       "            </tr>\n",
       "            <tr>\n",
       "                        <th id=\"T_4152f2f4_12a4_11ec_bbd2_9801a7a4a30blevel0_row3\" class=\"row_heading level0 row3\" >132</th>\n",
       "                        <th id=\"T_4152f2f4_12a4_11ec_bbd2_9801a7a4a30blevel1_row3\" class=\"row_heading level1 row3\" >Persuasion</th>\n",
       "                        <td id=\"T_4152f2f4_12a4_11ec_bbd2_9801a7a4a30brow3_col0\" class=\"data row3 col0\" >9</td>\n",
       "                        <td id=\"T_4152f2f4_12a4_11ec_bbd2_9801a7a4a30brow3_col1\" class=\"data row3 col1\" >$3.22</td>\n",
       "                        <td id=\"T_4152f2f4_12a4_11ec_bbd2_9801a7a4a30brow3_col2\" class=\"data row3 col2\" >$28.99</td>\n",
       "            </tr>\n",
       "            <tr>\n",
       "                        <th id=\"T_4152f2f4_12a4_11ec_bbd2_9801a7a4a30blevel0_row4\" class=\"row_heading level0 row4\" >108</th>\n",
       "                        <th id=\"T_4152f2f4_12a4_11ec_bbd2_9801a7a4a30blevel1_row4\" class=\"row_heading level1 row4\" >Extraction, Quickblade Of Trembling Hands</th>\n",
       "                        <td id=\"T_4152f2f4_12a4_11ec_bbd2_9801a7a4a30brow4_col0\" class=\"data row4 col0\" >9</td>\n",
       "                        <td id=\"T_4152f2f4_12a4_11ec_bbd2_9801a7a4a30brow4_col1\" class=\"data row4 col1\" >$3.53</td>\n",
       "                        <td id=\"T_4152f2f4_12a4_11ec_bbd2_9801a7a4a30brow4_col2\" class=\"data row4 col2\" >$31.77</td>\n",
       "            </tr>\n",
       "    </tbody></table>"
      ],
      "text/plain": [
       "<pandas.io.formats.style.Styler at 0x7f87727329e8>"
      ]
     },
     "execution_count": 274,
     "metadata": {},
     "output_type": "execute_result"
    }
   ],
   "source": [
    "#input calculated values in a data frame\n",
    "item_stats_analysis = pd.DataFrame({\n",
    "    'Purchase Count':gbi_purchase_count,\n",
    "    'Item Price':gbi_avg_purchase_price,\n",
    "    'Total Purchase Value':gbi_total_purchase_value\n",
    "})\n",
    "\n",
    "#Sort the values from highest purchase count value to lowest\n",
    "popular_items = item_stats_analysis.sort_values([\"Purchase Count\"], ascending=False).head()\n",
    "\n",
    "#Clean up the data frame output format\n",
    "popular_items.style.format({\n",
    "    'Item Price':\"${:,.2f}\",\n",
    "    'Total Purchase Value':\"${:,.2f}\"\n",
    "})"
   ]
  },
  {
   "cell_type": "code",
   "execution_count": 275,
   "id": "6a4196d4",
   "metadata": {},
   "outputs": [
    {
     "data": {
      "text/html": [
       "<style  type=\"text/css\" >\n",
       "</style><table id=\"T_86cfdf98_12a4_11ec_ae25_9801a7a4a30b\" ><thead>    <tr>        <th class=\"blank\" ></th>        <th class=\"blank level0\" ></th>        <th class=\"col_heading level0 col0\" >Purchase Count</th>        <th class=\"col_heading level0 col1\" >Item Price</th>        <th class=\"col_heading level0 col2\" >Total Purchase Value</th>    </tr>    <tr>        <th class=\"index_name level0\" >Item ID</th>        <th class=\"index_name level1\" >Item Name</th>        <th class=\"blank\" ></th>        <th class=\"blank\" ></th>        <th class=\"blank\" ></th>    </tr></thead><tbody>\n",
       "                <tr>\n",
       "                        <th id=\"T_86cfdf98_12a4_11ec_ae25_9801a7a4a30blevel0_row0\" class=\"row_heading level0 row0\" >92</th>\n",
       "                        <th id=\"T_86cfdf98_12a4_11ec_ae25_9801a7a4a30blevel1_row0\" class=\"row_heading level1 row0\" >Final Critic</th>\n",
       "                        <td id=\"T_86cfdf98_12a4_11ec_ae25_9801a7a4a30brow0_col0\" class=\"data row0 col0\" >13</td>\n",
       "                        <td id=\"T_86cfdf98_12a4_11ec_ae25_9801a7a4a30brow0_col1\" class=\"data row0 col1\" >$4.61</td>\n",
       "                        <td id=\"T_86cfdf98_12a4_11ec_ae25_9801a7a4a30brow0_col2\" class=\"data row0 col2\" >$59.99</td>\n",
       "            </tr>\n",
       "            <tr>\n",
       "                        <th id=\"T_86cfdf98_12a4_11ec_ae25_9801a7a4a30blevel0_row1\" class=\"row_heading level0 row1\" >178</th>\n",
       "                        <th id=\"T_86cfdf98_12a4_11ec_ae25_9801a7a4a30blevel1_row1\" class=\"row_heading level1 row1\" >Oathbreaker, Last Hope of the Breaking Storm</th>\n",
       "                        <td id=\"T_86cfdf98_12a4_11ec_ae25_9801a7a4a30brow1_col0\" class=\"data row1 col0\" >12</td>\n",
       "                        <td id=\"T_86cfdf98_12a4_11ec_ae25_9801a7a4a30brow1_col1\" class=\"data row1 col1\" >$4.23</td>\n",
       "                        <td id=\"T_86cfdf98_12a4_11ec_ae25_9801a7a4a30brow1_col2\" class=\"data row1 col2\" >$50.76</td>\n",
       "            </tr>\n",
       "            <tr>\n",
       "                        <th id=\"T_86cfdf98_12a4_11ec_ae25_9801a7a4a30blevel0_row2\" class=\"row_heading level0 row2\" >82</th>\n",
       "                        <th id=\"T_86cfdf98_12a4_11ec_ae25_9801a7a4a30blevel1_row2\" class=\"row_heading level1 row2\" >Nirvana</th>\n",
       "                        <td id=\"T_86cfdf98_12a4_11ec_ae25_9801a7a4a30brow2_col0\" class=\"data row2 col0\" >9</td>\n",
       "                        <td id=\"T_86cfdf98_12a4_11ec_ae25_9801a7a4a30brow2_col1\" class=\"data row2 col1\" >$4.90</td>\n",
       "                        <td id=\"T_86cfdf98_12a4_11ec_ae25_9801a7a4a30brow2_col2\" class=\"data row2 col2\" >$44.10</td>\n",
       "            </tr>\n",
       "            <tr>\n",
       "                        <th id=\"T_86cfdf98_12a4_11ec_ae25_9801a7a4a30blevel0_row3\" class=\"row_heading level0 row3\" >145</th>\n",
       "                        <th id=\"T_86cfdf98_12a4_11ec_ae25_9801a7a4a30blevel1_row3\" class=\"row_heading level1 row3\" >Fiery Glass Crusader</th>\n",
       "                        <td id=\"T_86cfdf98_12a4_11ec_ae25_9801a7a4a30brow3_col0\" class=\"data row3 col0\" >9</td>\n",
       "                        <td id=\"T_86cfdf98_12a4_11ec_ae25_9801a7a4a30brow3_col1\" class=\"data row3 col1\" >$4.58</td>\n",
       "                        <td id=\"T_86cfdf98_12a4_11ec_ae25_9801a7a4a30brow3_col2\" class=\"data row3 col2\" >$41.22</td>\n",
       "            </tr>\n",
       "            <tr>\n",
       "                        <th id=\"T_86cfdf98_12a4_11ec_ae25_9801a7a4a30blevel0_row4\" class=\"row_heading level0 row4\" >103</th>\n",
       "                        <th id=\"T_86cfdf98_12a4_11ec_ae25_9801a7a4a30blevel1_row4\" class=\"row_heading level1 row4\" >Singed Scalpel</th>\n",
       "                        <td id=\"T_86cfdf98_12a4_11ec_ae25_9801a7a4a30brow4_col0\" class=\"data row4 col0\" >8</td>\n",
       "                        <td id=\"T_86cfdf98_12a4_11ec_ae25_9801a7a4a30brow4_col1\" class=\"data row4 col1\" >$4.35</td>\n",
       "                        <td id=\"T_86cfdf98_12a4_11ec_ae25_9801a7a4a30brow4_col2\" class=\"data row4 col2\" >$34.80</td>\n",
       "            </tr>\n",
       "    </tbody></table>"
      ],
      "text/plain": [
       "<pandas.io.formats.style.Styler at 0x7f87727431d0>"
      ]
     },
     "execution_count": 275,
     "metadata": {},
     "output_type": "execute_result"
    }
   ],
   "source": [
    "##MOST PROFITABLE ITEMS\n",
    "popular_items = item_stats_analysis.sort_values([\"Total Purchase Value\"],\n",
    "                                        ascending=False).head()\n",
    "\n",
    "popular_items.style.format({\"Item Price\":\"${:,.2f}\",\n",
    "                            \"Total Purchase Value\":\"${:,.2f}\"})"
   ]
  },
  {
   "cell_type": "code",
   "execution_count": null,
   "id": "50739075",
   "metadata": {},
   "outputs": [],
   "source": [
    "##ANALYSIS"
   ]
  }
 ],
 "metadata": {
  "kernelspec": {
   "display_name": "Python 3",
   "language": "python",
   "name": "python3"
  },
  "language_info": {
   "codemirror_mode": {
    "name": "ipython",
    "version": 3
   },
   "file_extension": ".py",
   "mimetype": "text/x-python",
   "name": "python",
   "nbconvert_exporter": "python",
   "pygments_lexer": "ipython3",
   "version": "3.6.13"
  }
 },
 "nbformat": 4,
 "nbformat_minor": 5
}
